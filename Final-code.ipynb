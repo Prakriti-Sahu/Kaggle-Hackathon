{
  "nbformat": 4,
  "nbformat_minor": 0,
  "metadata": {
    "colab": {
      "name": "Final-hackathon-submission.ipynb",
      "provenance": [],
      "toc_visible": true
    },
    "kernelspec": {
      "name": "python3",
      "display_name": "Python 3"
    },
    "language_info": {
      "name": "python"
    }
  },
  "cells": [
    {
      "cell_type": "markdown",
      "metadata": {
        "id": "wq3eaVUyBn-x"
      },
      "source": [
        "# **Hackathon**"
      ]
    },
    {
      "cell_type": "markdown",
      "metadata": {
        "id": "gzHzT7eCCUBW"
      },
      "source": [
        "## **Getting Data**"
      ]
    },
    {
      "cell_type": "markdown",
      "metadata": {
        "id": "aUO-KL_JB1IR"
      },
      "source": [
        "**Installing kaggle dependencies**"
      ]
    },
    {
      "cell_type": "code",
      "metadata": {
        "colab": {
          "base_uri": "https://localhost:8080/"
        },
        "id": "H2GQVtsx2ZWJ",
        "outputId": "77307e9f-1558-4648-eb35-3028f34eef41"
      },
      "source": [
        "!pip install kaggle\n",
        "!mkdir .kaggle"
      ],
      "execution_count": 1,
      "outputs": [
        {
          "output_type": "stream",
          "name": "stdout",
          "text": [
            "Requirement already satisfied: kaggle in /usr/local/lib/python3.7/dist-packages (1.5.12)\n",
            "Requirement already satisfied: tqdm in /usr/local/lib/python3.7/dist-packages (from kaggle) (4.62.3)\n",
            "Requirement already satisfied: requests in /usr/local/lib/python3.7/dist-packages (from kaggle) (2.23.0)\n",
            "Requirement already satisfied: python-slugify in /usr/local/lib/python3.7/dist-packages (from kaggle) (5.0.2)\n",
            "Requirement already satisfied: python-dateutil in /usr/local/lib/python3.7/dist-packages (from kaggle) (2.8.2)\n",
            "Requirement already satisfied: six>=1.10 in /usr/local/lib/python3.7/dist-packages (from kaggle) (1.15.0)\n",
            "Requirement already satisfied: urllib3 in /usr/local/lib/python3.7/dist-packages (from kaggle) (1.24.3)\n",
            "Requirement already satisfied: certifi in /usr/local/lib/python3.7/dist-packages (from kaggle) (2021.10.8)\n",
            "Requirement already satisfied: text-unidecode>=1.3 in /usr/local/lib/python3.7/dist-packages (from python-slugify->kaggle) (1.3)\n",
            "Requirement already satisfied: chardet<4,>=3.0.2 in /usr/local/lib/python3.7/dist-packages (from requests->kaggle) (3.0.4)\n",
            "Requirement already satisfied: idna<3,>=2.5 in /usr/local/lib/python3.7/dist-packages (from requests->kaggle) (2.10)\n"
          ]
        }
      ]
    },
    {
      "cell_type": "markdown",
      "metadata": {
        "id": "k2u2G-yGB6TR"
      },
      "source": [
        "**Importing data**"
      ]
    },
    {
      "cell_type": "code",
      "metadata": {
        "colab": {
          "base_uri": "https://localhost:8080/"
        },
        "id": "RksOvrx-2yr7",
        "outputId": "28d83dc7-fcb1-4b8f-f490-99433c791fbb"
      },
      "source": [
        "import json\n",
        "token = {\"username\":\"prakritisahu\",\"key\":\"c8dce2c6b383533a84d1ddc341353420\"}\n",
        "with open('/content/.kaggle/kaggle.json', 'w') as file:\n",
        "    json.dump(token, file)\n",
        "\n",
        "!cp /content/.kaggle/kaggle.json ~/.kaggle/kaggle.json\n",
        "\n",
        "!kaggle config set -n path -v{/content}\n",
        "\n",
        "!chmod 600 /root/.kaggle/kaggle.json\n",
        "\n",
        "!kaggle competitions download -c Foml-2021"
      ],
      "execution_count": 3,
      "outputs": [
        {
          "output_type": "stream",
          "name": "stdout",
          "text": [
            "Warning: Your Kaggle API key is readable by other users on this system! To fix this, you can run 'chmod 600 /root/.kaggle/kaggle.json'\n",
            "- path is now set to: {/content}\n",
            "Warning: Looks like you're using an outdated API Version, please consider updating (server 1.5.12 / client 1.5.4)\n",
            "Downloading train.csv.zip to {/content}/competitions/Foml-2021\n",
            "  0% 0.00/4.80M [00:00<?, ?B/s]\n",
            "100% 4.80M/4.80M [00:00<00:00, 44.2MB/s]\n",
            "Downloading test.csv.zip to {/content}/competitions/Foml-2021\n",
            " 72% 5.00M/6.97M [00:00<00:00, 52.1MB/s]\n",
            "100% 6.97M/6.97M [00:00<00:00, 63.8MB/s]\n"
          ]
        }
      ]
    },
    {
      "cell_type": "code",
      "metadata": {
        "colab": {
          "base_uri": "https://localhost:8080/"
        },
        "id": "pc49jKX_31QU",
        "outputId": "e6ebe772-8ae6-4f57-9b4f-809346d720a5"
      },
      "source": [
        "!unzip /content/{/content}/competitions/Foml-2021/train.csv.zip && rm /content/{/content}/competitions/Foml-2021/train.csv.zip"
      ],
      "execution_count": 4,
      "outputs": [
        {
          "output_type": "stream",
          "name": "stdout",
          "text": [
            "Archive:  /content/{/content}/competitions/Foml-2021/train.csv.zip\n",
            "  inflating: train.csv               \n"
          ]
        }
      ]
    },
    {
      "cell_type": "code",
      "metadata": {
        "colab": {
          "base_uri": "https://localhost:8080/"
        },
        "id": "Cf7aQzdX5jVO",
        "outputId": "2bcbca0d-1533-4d66-93de-256457edc3f8"
      },
      "source": [
        "!unzip /content/{/content}/competitions/Foml-2021/test.csv.zip && rm /content/{/content}/competitions/Foml-2021/test.csv.zip"
      ],
      "execution_count": 5,
      "outputs": [
        {
          "output_type": "stream",
          "name": "stdout",
          "text": [
            "Archive:  /content/{/content}/competitions/Foml-2021/test.csv.zip\n",
            "  inflating: test.csv                \n"
          ]
        }
      ]
    },
    {
      "cell_type": "markdown",
      "metadata": {
        "id": "aVqphj2_B-AA"
      },
      "source": [
        "**Importing necessary libraries**"
      ]
    },
    {
      "cell_type": "code",
      "metadata": {
        "id": "1DltsTzg5W_C"
      },
      "source": [
        "import pandas as pd\n",
        "import sklearn\n",
        "from sklearn.preprocessing import LabelEncoder\n",
        "import numpy as np\n",
        "from sklearn.model_selection import cross_val_score\n",
        "from sklearn.model_selection import train_test_split\n",
        "import math\n",
        "import sklearn.ensemble\n",
        "from sklearn.ensemble import GradientBoostingClassifier\n",
        "from sklearn.metrics import accuracy_score\n",
        "from sklearn.preprocessing import StandardScaler"
      ],
      "execution_count": 6,
      "outputs": []
    },
    {
      "cell_type": "markdown",
      "metadata": {
        "id": "zIK5voJ3CCM3"
      },
      "source": [
        "**Reading data**"
      ]
    },
    {
      "cell_type": "code",
      "metadata": {
        "colab": {
          "base_uri": "https://localhost:8080/"
        },
        "id": "G-X8YDoK5euj",
        "outputId": "68d67758-0548-438b-a1f5-3404e0fe7051"
      },
      "source": [
        "train_data=pd.read_csv(\"train.csv\")\n",
        "test_data=pd.read_csv(\"test.csv\")"
      ],
      "execution_count": 7,
      "outputs": [
        {
          "output_type": "stream",
          "name": "stderr",
          "text": [
            "/usr/local/lib/python3.7/dist-packages/IPython/core/interactiveshell.py:2718: DtypeWarning: Columns (2) have mixed types.Specify dtype option on import or set low_memory=False.\n",
            "  interactivity=interactivity, compiler=compiler, result=result)\n"
          ]
        }
      ]
    },
    {
      "cell_type": "code",
      "metadata": {
        "colab": {
          "base_uri": "https://localhost:8080/",
          "height": 295
        },
        "id": "c90ECAK06Geb",
        "outputId": "d507a70c-ba3d-4ffc-cc21-5398ebdbd205"
      },
      "source": [
        "train_data.describe()"
      ],
      "execution_count": 8,
      "outputs": [
        {
          "output_type": "execute_result",
          "data": {
            "text/html": [
              "<div>\n",
              "<style scoped>\n",
              "    .dataframe tbody tr th:only-of-type {\n",
              "        vertical-align: middle;\n",
              "    }\n",
              "\n",
              "    .dataframe tbody tr th {\n",
              "        vertical-align: top;\n",
              "    }\n",
              "\n",
              "    .dataframe thead th {\n",
              "        text-align: right;\n",
              "    }\n",
              "</style>\n",
              "<table border=\"1\" class=\"dataframe\">\n",
              "  <thead>\n",
              "    <tr style=\"text-align: right;\">\n",
              "      <th></th>\n",
              "      <th>Speed Limit</th>\n",
              "      <th>Vehicle Year</th>\n",
              "      <th>Latitude</th>\n",
              "      <th>Longitude</th>\n",
              "      <th>Fault</th>\n",
              "    </tr>\n",
              "  </thead>\n",
              "  <tbody>\n",
              "    <tr>\n",
              "      <th>count</th>\n",
              "      <td>51490.000000</td>\n",
              "      <td>51490.000000</td>\n",
              "      <td>51490.000000</td>\n",
              "      <td>51490.000000</td>\n",
              "      <td>51490.000000</td>\n",
              "    </tr>\n",
              "    <tr>\n",
              "      <th>mean</th>\n",
              "      <td>32.895319</td>\n",
              "      <td>1974.545465</td>\n",
              "      <td>39.082783</td>\n",
              "      <td>-77.112688</td>\n",
              "      <td>0.550204</td>\n",
              "    </tr>\n",
              "    <tr>\n",
              "      <th>std</th>\n",
              "      <td>11.696668</td>\n",
              "      <td>483.279428</td>\n",
              "      <td>0.072062</td>\n",
              "      <td>0.098300</td>\n",
              "      <td>0.497478</td>\n",
              "    </tr>\n",
              "    <tr>\n",
              "      <th>min</th>\n",
              "      <td>0.000000</td>\n",
              "      <td>0.000000</td>\n",
              "      <td>38.008120</td>\n",
              "      <td>-79.486000</td>\n",
              "      <td>0.000000</td>\n",
              "    </tr>\n",
              "    <tr>\n",
              "      <th>25%</th>\n",
              "      <td>25.000000</td>\n",
              "      <td>2005.000000</td>\n",
              "      <td>39.023974</td>\n",
              "      <td>-77.188926</td>\n",
              "      <td>0.000000</td>\n",
              "    </tr>\n",
              "    <tr>\n",
              "      <th>50%</th>\n",
              "      <td>35.000000</td>\n",
              "      <td>2010.000000</td>\n",
              "      <td>39.074522</td>\n",
              "      <td>-77.105670</td>\n",
              "      <td>1.000000</td>\n",
              "    </tr>\n",
              "    <tr>\n",
              "      <th>75%</th>\n",
              "      <td>40.000000</td>\n",
              "      <td>2014.000000</td>\n",
              "      <td>39.139685</td>\n",
              "      <td>-77.040114</td>\n",
              "      <td>1.000000</td>\n",
              "    </tr>\n",
              "    <tr>\n",
              "      <th>max</th>\n",
              "      <td>70.000000</td>\n",
              "      <td>9999.000000</td>\n",
              "      <td>39.989747</td>\n",
              "      <td>-75.975952</td>\n",
              "      <td>1.000000</td>\n",
              "    </tr>\n",
              "  </tbody>\n",
              "</table>\n",
              "</div>"
            ],
            "text/plain": [
              "        Speed Limit  Vehicle Year      Latitude     Longitude         Fault\n",
              "count  51490.000000  51490.000000  51490.000000  51490.000000  51490.000000\n",
              "mean      32.895319   1974.545465     39.082783    -77.112688      0.550204\n",
              "std       11.696668    483.279428      0.072062      0.098300      0.497478\n",
              "min        0.000000      0.000000     38.008120    -79.486000      0.000000\n",
              "25%       25.000000   2005.000000     39.023974    -77.188926      0.000000\n",
              "50%       35.000000   2010.000000     39.074522    -77.105670      1.000000\n",
              "75%       40.000000   2014.000000     39.139685    -77.040114      1.000000\n",
              "max       70.000000   9999.000000     39.989747    -75.975952      1.000000"
            ]
          },
          "metadata": {},
          "execution_count": 8
        }
      ]
    },
    {
      "cell_type": "code",
      "metadata": {
        "colab": {
          "base_uri": "https://localhost:8080/"
        },
        "id": "snDnaIT86P5K",
        "outputId": "38c724c7-ea71-4aad-8be4-21d80a59121b"
      },
      "source": [
        "train_data.shape"
      ],
      "execution_count": 9,
      "outputs": [
        {
          "output_type": "execute_result",
          "data": {
            "text/plain": [
              "(51490, 42)"
            ]
          },
          "metadata": {},
          "execution_count": 9
        }
      ]
    },
    {
      "cell_type": "markdown",
      "metadata": {
        "id": "34KPJYw1CG7X"
      },
      "source": [
        "## **Data Preprocessing and Feature Selection**"
      ]
    },
    {
      "cell_type": "code",
      "metadata": {
        "colab": {
          "base_uri": "https://localhost:8080/"
        },
        "id": "omsxdY2Xi160",
        "outputId": "26fa4501-d514-4206-df2f-73962af24cd4"
      },
      "source": [
        "train_data.columns"
      ],
      "execution_count": 10,
      "outputs": [
        {
          "output_type": "execute_result",
          "data": {
            "text/plain": [
              "Index(['Report Number', 'Local Case Number', 'Agency Name', 'ACRS Report Type',\n",
              "       'Crash Date/Time', 'Route Type', 'Road Name', 'Cross-Street Type',\n",
              "       'Cross-Street Name', 'Off-Road Description', 'Municipality',\n",
              "       'Related Non-Motorist', 'Collision Type', 'Weather',\n",
              "       'Surface Condition', 'Light', 'Traffic Control',\n",
              "       'Driver Substance Abuse', 'Non-Motorist Substance Abuse', 'Person ID',\n",
              "       'Injury Severity', 'Circumstance', 'Drivers License State',\n",
              "       'Vehicle ID', 'Vehicle Damage Extent', 'Vehicle First Impact Location',\n",
              "       'Vehicle Second Impact Location', 'Vehicle Body Type',\n",
              "       'Vehicle Movement', 'Vehicle Continuing Dir', 'Vehicle Going Dir',\n",
              "       'Speed Limit', 'Driverless Vehicle', 'Parked Vehicle', 'Vehicle Year',\n",
              "       'Vehicle Make', 'Vehicle Model', 'Equipment Problems', 'Latitude',\n",
              "       'Longitude', 'Location', 'Fault'],\n",
              "      dtype='object')"
            ]
          },
          "metadata": {},
          "execution_count": 10
        }
      ]
    },
    {
      "cell_type": "code",
      "metadata": {
        "colab": {
          "base_uri": "https://localhost:8080/"
        },
        "id": "QxSkhKLuiXrL",
        "outputId": "2db07380-7056-4987-c0fc-8adeab5f04d0"
      },
      "source": [
        "train_data.columns = train_data.columns.str.replace(' ', '_')\n",
        "train_data.columns = train_data.columns.str.replace('/', '_')\n",
        "train_data.columns = train_data.columns.str.replace('-', '_')\n",
        "train_data.columns"
      ],
      "execution_count": 11,
      "outputs": [
        {
          "output_type": "execute_result",
          "data": {
            "text/plain": [
              "Index(['Report_Number', 'Local_Case_Number', 'Agency_Name', 'ACRS_Report_Type',\n",
              "       'Crash_Date_Time', 'Route_Type', 'Road_Name', 'Cross_Street_Type',\n",
              "       'Cross_Street_Name', 'Off_Road_Description', 'Municipality',\n",
              "       'Related_Non_Motorist', 'Collision_Type', 'Weather',\n",
              "       'Surface_Condition', 'Light', 'Traffic_Control',\n",
              "       'Driver_Substance_Abuse', 'Non_Motorist_Substance_Abuse', 'Person_ID',\n",
              "       'Injury_Severity', 'Circumstance', 'Drivers_License_State',\n",
              "       'Vehicle_ID', 'Vehicle_Damage_Extent', 'Vehicle_First_Impact_Location',\n",
              "       'Vehicle_Second_Impact_Location', 'Vehicle_Body_Type',\n",
              "       'Vehicle_Movement', 'Vehicle_Continuing_Dir', 'Vehicle_Going_Dir',\n",
              "       'Speed_Limit', 'Driverless_Vehicle', 'Parked_Vehicle', 'Vehicle_Year',\n",
              "       'Vehicle_Make', 'Vehicle_Model', 'Equipment_Problems', 'Latitude',\n",
              "       'Longitude', 'Location', 'Fault'],\n",
              "      dtype='object')"
            ]
          },
          "metadata": {},
          "execution_count": 11
        }
      ]
    },
    {
      "cell_type": "code",
      "metadata": {
        "colab": {
          "base_uri": "https://localhost:8080/"
        },
        "id": "Qvo19AacNeVg",
        "outputId": "4e4e4f96-3b56-4602-ccf9-f8264b6f782a"
      },
      "source": [
        "train_data.Vehicle_Year.unique()"
      ],
      "execution_count": 12,
      "outputs": [
        {
          "output_type": "execute_result",
          "data": {
            "text/plain": [
              "array([2005, 2018, 2016, 2001, 2013, 2015, 2004, 2014, 2003, 2012, 2006,\n",
              "       2002, 1997,    0, 2007, 2011, 2017, 2009, 1982, 2010, 2008, 2019,\n",
              "       2020, 1991, 2040, 1988, 1955,  200, 2000, 1972,    2, 1999,   97,\n",
              "       1998, 1900, 2996, 1005, 1986, 1985, 1990, 1995, 3003, 1994, 2021,\n",
              "       1992, 1993, 2914, 2033, 1996, 1987, 9999, 1969,   15, 1970, 1025,\n",
              "       8008, 2991, 1965, 1979, 1974, 2911, 1946,   13,    1, 1963, 2103,\n",
              "       1980, 8888,   99, 1978, 2099, 1111, 1983,   14, 7817, 2107, 1968,\n",
              "       1989, 1984, 1901, 2022,  215, 1966])"
            ]
          },
          "metadata": {},
          "execution_count": 12
        }
      ]
    },
    {
      "cell_type": "markdown",
      "metadata": {
        "id": "BfivJRYXNtsB"
      },
      "source": [
        "We can see a lot of nonsensical values for the 'vehicle year column', so we replace them."
      ]
    },
    {
      "cell_type": "code",
      "metadata": {
        "id": "KgXdWSy3Np7F"
      },
      "source": [
        "train_data['Vehicle_Year'] = train_data['Vehicle_Year'].replace([0,2040,200,2,97,2996,1005,3003,2914,2033,9999,15,1025,8008,2991,2911,13,1,2103,8888,99,2099,1111,14,7817,2107,2022,215]\n",
        "                                                            , [2000,0,2000,0,1997,1996,2005,2003,2014,0,1999,2015,0,2008,0,2011,2013,0,0,0,1999,0,0,2014,0,0,0,2015])\n",
        "train_data['Vehicle_Year']=train_data['Vehicle_Year'].fillna(0)"
      ],
      "execution_count": 13,
      "outputs": []
    },
    {
      "cell_type": "code",
      "metadata": {
        "colab": {
          "base_uri": "https://localhost:8080/"
        },
        "id": "dy6RBg1sadCR",
        "outputId": "fc721a63-0b85-46ff-e8d5-94ee2bf87074"
      },
      "source": [
        "train_data['report_id'] = train_data['Report_Number'].apply(lambda x: x[0:2])\n",
        "train_data.report_id.unique()"
      ],
      "execution_count": 14,
      "outputs": [
        {
          "output_type": "execute_result",
          "data": {
            "text/plain": [
              "array(['MP', 'D5', 'E7', 'D8', 'H2', 'H1'], dtype=object)"
            ]
          },
          "metadata": {},
          "execution_count": 14
        }
      ]
    },
    {
      "cell_type": "code",
      "metadata": {
        "colab": {
          "base_uri": "https://localhost:8080/"
        },
        "id": "72AXIN8P7-12",
        "outputId": "161f1b84-10d4-4c3c-99ad-5e015fa40176"
      },
      "source": [
        "train_data = train_data.drop(['Report_Number', 'Person_ID', 'Vehicle_ID', 'Driverless_Vehicle', \n",
        "                              'Vehicle_Make', 'Vehicle_Model', 'Road_Name', 'Cross_Street_Name' ], axis=1)\n",
        "#'Vehicle_Year', 'Local_Case_Number', 'Agency_Name', 'Municipality',\n",
        "train_data.shape"
      ],
      "execution_count": 15,
      "outputs": [
        {
          "output_type": "execute_result",
          "data": {
            "text/plain": [
              "(51490, 35)"
            ]
          },
          "metadata": {},
          "execution_count": 15
        }
      ]
    },
    {
      "cell_type": "code",
      "metadata": {
        "id": "HX767UgysTtm"
      },
      "source": [
        "train_data['Crash_Date_Time'] =  pd.to_datetime(train_data['Crash_Date_Time'])\n",
        "train_data['crash_year'] = train_data['Crash_Date_Time'].dt.year\n",
        "train_data['crash_quarter'] = train_data['Crash_Date_Time'].dt.quarter\n",
        "train_data['crash_month'] = train_data['Crash_Date_Time'].dt.month\n",
        "train_data['crash_day'] = train_data['Crash_Date_Time'].dt.day\n",
        "train_data['crash_hour'] = train_data['Crash_Date_Time'].dt.hour"
      ],
      "execution_count": 16,
      "outputs": []
    },
    {
      "cell_type": "code",
      "metadata": {
        "id": "T7HvsQGCyTLs"
      },
      "source": [
        "train_data=train_data.drop(['Crash_Date_Time'],axis=1)"
      ],
      "execution_count": 17,
      "outputs": []
    },
    {
      "cell_type": "code",
      "metadata": {
        "colab": {
          "base_uri": "https://localhost:8080/",
          "height": 214
        },
        "id": "SxThxrx_eDJk",
        "outputId": "14c58725-d987-4200-b506-b0e16c45c4ab"
      },
      "source": [
        "train_data.head(2)"
      ],
      "execution_count": 18,
      "outputs": [
        {
          "output_type": "execute_result",
          "data": {
            "text/html": [
              "<div>\n",
              "<style scoped>\n",
              "    .dataframe tbody tr th:only-of-type {\n",
              "        vertical-align: middle;\n",
              "    }\n",
              "\n",
              "    .dataframe tbody tr th {\n",
              "        vertical-align: top;\n",
              "    }\n",
              "\n",
              "    .dataframe thead th {\n",
              "        text-align: right;\n",
              "    }\n",
              "</style>\n",
              "<table border=\"1\" class=\"dataframe\">\n",
              "  <thead>\n",
              "    <tr style=\"text-align: right;\">\n",
              "      <th></th>\n",
              "      <th>Local_Case_Number</th>\n",
              "      <th>Agency_Name</th>\n",
              "      <th>ACRS_Report_Type</th>\n",
              "      <th>Route_Type</th>\n",
              "      <th>Cross_Street_Type</th>\n",
              "      <th>Off_Road_Description</th>\n",
              "      <th>Municipality</th>\n",
              "      <th>Related_Non_Motorist</th>\n",
              "      <th>Collision_Type</th>\n",
              "      <th>Weather</th>\n",
              "      <th>Surface_Condition</th>\n",
              "      <th>Light</th>\n",
              "      <th>Traffic_Control</th>\n",
              "      <th>Driver_Substance_Abuse</th>\n",
              "      <th>Non_Motorist_Substance_Abuse</th>\n",
              "      <th>Injury_Severity</th>\n",
              "      <th>Circumstance</th>\n",
              "      <th>Drivers_License_State</th>\n",
              "      <th>Vehicle_Damage_Extent</th>\n",
              "      <th>Vehicle_First_Impact_Location</th>\n",
              "      <th>Vehicle_Second_Impact_Location</th>\n",
              "      <th>Vehicle_Body_Type</th>\n",
              "      <th>Vehicle_Movement</th>\n",
              "      <th>Vehicle_Continuing_Dir</th>\n",
              "      <th>Vehicle_Going_Dir</th>\n",
              "      <th>Speed_Limit</th>\n",
              "      <th>Parked_Vehicle</th>\n",
              "      <th>Vehicle_Year</th>\n",
              "      <th>Equipment_Problems</th>\n",
              "      <th>Latitude</th>\n",
              "      <th>Longitude</th>\n",
              "      <th>Location</th>\n",
              "      <th>Fault</th>\n",
              "      <th>report_id</th>\n",
              "      <th>crash_year</th>\n",
              "      <th>crash_quarter</th>\n",
              "      <th>crash_month</th>\n",
              "      <th>crash_day</th>\n",
              "      <th>crash_hour</th>\n",
              "    </tr>\n",
              "  </thead>\n",
              "  <tbody>\n",
              "    <tr>\n",
              "      <th>0</th>\n",
              "      <td>10196</td>\n",
              "      <td>Montgomery County Police</td>\n",
              "      <td>Injury Crash</td>\n",
              "      <td>Maryland (State)</td>\n",
              "      <td>County</td>\n",
              "      <td>12305 SHOREFIELD RD</td>\n",
              "      <td>NaN</td>\n",
              "      <td>NaN</td>\n",
              "      <td>SINGLE VEHICLE</td>\n",
              "      <td>CLEAR</td>\n",
              "      <td>WET</td>\n",
              "      <td>DAYLIGHT</td>\n",
              "      <td>NO CONTROLS</td>\n",
              "      <td>NONE DETECTED</td>\n",
              "      <td>NaN</td>\n",
              "      <td>SUSPECTED MINOR INJURY</td>\n",
              "      <td>N/A, WET</td>\n",
              "      <td>MD</td>\n",
              "      <td>DESTROYED</td>\n",
              "      <td>TWELVE OCLOCK</td>\n",
              "      <td>TWELVE OCLOCK</td>\n",
              "      <td>PICKUP TRUCK</td>\n",
              "      <td>MOVING CONSTANT SPEED</td>\n",
              "      <td>South</td>\n",
              "      <td>Unknown</td>\n",
              "      <td>40</td>\n",
              "      <td>No</td>\n",
              "      <td>2005</td>\n",
              "      <td>NO MISUSE</td>\n",
              "      <td>39.263378</td>\n",
              "      <td>-77.344203</td>\n",
              "      <td>3.6383 7.4233</td>\n",
              "      <td>1</td>\n",
              "      <td>MP</td>\n",
              "      <td>2017</td>\n",
              "      <td>2</td>\n",
              "      <td>6</td>\n",
              "      <td>5</td>\n",
              "      <td>16</td>\n",
              "    </tr>\n",
              "    <tr>\n",
              "      <th>1</th>\n",
              "      <td>20080</td>\n",
              "      <td>Montgomery County Police</td>\n",
              "      <td>Injury Crash</td>\n",
              "      <td>County</td>\n",
              "      <td>County</td>\n",
              "      <td>NaN</td>\n",
              "      <td>NaN</td>\n",
              "      <td>NaN</td>\n",
              "      <td>STRAIGHT MOVEMENT ANGLE</td>\n",
              "      <td>CLEAR</td>\n",
              "      <td>DRY</td>\n",
              "      <td>DAYLIGHT</td>\n",
              "      <td>STOP SIGN</td>\n",
              "      <td>NONE DETECTED</td>\n",
              "      <td>NaN</td>\n",
              "      <td>NO APPARENT INJURY</td>\n",
              "      <td>BACKUP DUE TO REGULAR CONGESTION, SLEET, HAIL,...</td>\n",
              "      <td>MD</td>\n",
              "      <td>DISABLING</td>\n",
              "      <td>TWELVE OCLOCK</td>\n",
              "      <td>TWELVE OCLOCK</td>\n",
              "      <td>PASSENGER CAR</td>\n",
              "      <td>ACCELERATING</td>\n",
              "      <td>South</td>\n",
              "      <td>South</td>\n",
              "      <td>25</td>\n",
              "      <td>Yes</td>\n",
              "      <td>2018</td>\n",
              "      <td>NO MISUSE</td>\n",
              "      <td>39.068913</td>\n",
              "      <td>-77.063227</td>\n",
              "      <td>3.0862 7.324</td>\n",
              "      <td>1</td>\n",
              "      <td>MP</td>\n",
              "      <td>2020</td>\n",
              "      <td>1</td>\n",
              "      <td>2</td>\n",
              "      <td>22</td>\n",
              "      <td>10</td>\n",
              "    </tr>\n",
              "  </tbody>\n",
              "</table>\n",
              "</div>"
            ],
            "text/plain": [
              "  Local_Case_Number               Agency_Name  ... crash_day crash_hour\n",
              "0             10196  Montgomery County Police  ...         5         16\n",
              "1             20080  Montgomery County Police  ...        22         10\n",
              "\n",
              "[2 rows x 39 columns]"
            ]
          },
          "metadata": {},
          "execution_count": 18
        }
      ]
    },
    {
      "cell_type": "code",
      "metadata": {
        "colab": {
          "base_uri": "https://localhost:8080/"
        },
        "id": "aVo2kEbNF1Lo",
        "outputId": "9629a72d-1445-4360-90a7-8f942f35fcb8"
      },
      "source": [
        "print(\"Total null values:\",train_data.isnull().sum().sum())"
      ],
      "execution_count": 19,
      "outputs": [
        {
          "output_type": "stream",
          "name": "stdout",
          "text": [
            "Total null values: 285641\n"
          ]
        }
      ]
    },
    {
      "cell_type": "code",
      "metadata": {
        "colab": {
          "base_uri": "https://localhost:8080/"
        },
        "id": "9U8TaScpHb8L",
        "outputId": "2a92a950-c0d6-4f80-bf0a-69ebcc65f6ed"
      },
      "source": [
        "def NaNcheck(data):\n",
        "  columns=data.columns \n",
        "  nan_count=[]\n",
        "  for i in columns:\n",
        "    nan_count.append(data[i].isnull().sum())\n",
        "  arr=np.array(nan_count)\n",
        "  \n",
        "  index_values=np.where(arr>=20000)\n",
        "  print(index_values,np.count_nonzero(index_values))\n",
        "\n",
        "  return index_values,arr\n",
        "\n",
        "index_values,arr=NaNcheck(train_data)\n",
        "\n",
        "columns=train_data.columns\n",
        "columns_delete=columns[index_values]\n",
        "\n",
        "print(f\"Columns with NaN values greater than 40,000:{columns_delete} \")\n"
      ],
      "execution_count": 20,
      "outputs": [
        {
          "output_type": "stream",
          "name": "stdout",
          "text": [
            "(array([ 5,  6,  7, 14, 16]),) 5\n",
            "Columns with NaN values greater than 40,000:Index(['Off_Road_Description', 'Municipality', 'Related_Non_Motorist',\n",
            "       'Non_Motorist_Substance_Abuse', 'Circumstance'],\n",
            "      dtype='object') \n"
          ]
        }
      ]
    },
    {
      "cell_type": "markdown",
      "metadata": {
        "id": "maclqGiVIMHU"
      },
      "source": [
        "Since the columns with a large number of NaN values are important for prediction and cannot be deleted, so we instead encode the NaN values"
      ]
    },
    {
      "cell_type": "markdown",
      "metadata": {
        "id": "MGslrxvpBepm"
      },
      "source": [
        "**Converting categorical data**"
      ]
    },
    {
      "cell_type": "code",
      "metadata": {
        "colab": {
          "base_uri": "https://localhost:8080/"
        },
        "id": "NlIqF-VQ7V3G",
        "outputId": "0e237611-70f9-4112-e091-e8b551da0911"
      },
      "source": [
        "l=[]\n",
        "\n",
        "for i in train_data.columns:\n",
        "   if train_data[i].dtypes == \"object\":\n",
        "     l.append(i)\n",
        "print(l)\n",
        "print(len(l))"
      ],
      "execution_count": 21,
      "outputs": [
        {
          "output_type": "stream",
          "name": "stdout",
          "text": [
            "['Local_Case_Number', 'Agency_Name', 'ACRS_Report_Type', 'Route_Type', 'Cross_Street_Type', 'Off_Road_Description', 'Municipality', 'Related_Non_Motorist', 'Collision_Type', 'Weather', 'Surface_Condition', 'Light', 'Traffic_Control', 'Driver_Substance_Abuse', 'Non_Motorist_Substance_Abuse', 'Injury_Severity', 'Circumstance', 'Drivers_License_State', 'Vehicle_Damage_Extent', 'Vehicle_First_Impact_Location', 'Vehicle_Second_Impact_Location', 'Vehicle_Body_Type', 'Vehicle_Movement', 'Vehicle_Continuing_Dir', 'Vehicle_Going_Dir', 'Parked_Vehicle', 'Equipment_Problems', 'Location', 'report_id']\n",
            "29\n"
          ]
        }
      ]
    },
    {
      "cell_type": "code",
      "metadata": {
        "id": "-sLujnCZ7FbM",
        "colab": {
          "base_uri": "https://localhost:8080/",
          "height": 223
        },
        "outputId": "1b4b65c7-70c9-4531-85cc-aa4bcede9c87"
      },
      "source": [
        "dt=train_data\n",
        "le = LabelEncoder()\n",
        "\n",
        "for j in l:\n",
        "  dt[j]=dt[j].astype('|S')\n",
        "\n",
        "for i in l:\n",
        "  dt[i]=le.fit_transform(dt[i])\n",
        "\n",
        "dt[l].head()"
      ],
      "execution_count": 22,
      "outputs": [
        {
          "output_type": "execute_result",
          "data": {
            "text/html": [
              "<div>\n",
              "<style scoped>\n",
              "    .dataframe tbody tr th:only-of-type {\n",
              "        vertical-align: middle;\n",
              "    }\n",
              "\n",
              "    .dataframe tbody tr th {\n",
              "        vertical-align: top;\n",
              "    }\n",
              "\n",
              "    .dataframe thead th {\n",
              "        text-align: right;\n",
              "    }\n",
              "</style>\n",
              "<table border=\"1\" class=\"dataframe\">\n",
              "  <thead>\n",
              "    <tr style=\"text-align: right;\">\n",
              "      <th></th>\n",
              "      <th>Local_Case_Number</th>\n",
              "      <th>Agency_Name</th>\n",
              "      <th>ACRS_Report_Type</th>\n",
              "      <th>Route_Type</th>\n",
              "      <th>Cross_Street_Type</th>\n",
              "      <th>Off_Road_Description</th>\n",
              "      <th>Municipality</th>\n",
              "      <th>Related_Non_Motorist</th>\n",
              "      <th>Collision_Type</th>\n",
              "      <th>Weather</th>\n",
              "      <th>Surface_Condition</th>\n",
              "      <th>Light</th>\n",
              "      <th>Traffic_Control</th>\n",
              "      <th>Driver_Substance_Abuse</th>\n",
              "      <th>Non_Motorist_Substance_Abuse</th>\n",
              "      <th>Injury_Severity</th>\n",
              "      <th>Circumstance</th>\n",
              "      <th>Drivers_License_State</th>\n",
              "      <th>Vehicle_Damage_Extent</th>\n",
              "      <th>Vehicle_First_Impact_Location</th>\n",
              "      <th>Vehicle_Second_Impact_Location</th>\n",
              "      <th>Vehicle_Body_Type</th>\n",
              "      <th>Vehicle_Movement</th>\n",
              "      <th>Vehicle_Continuing_Dir</th>\n",
              "      <th>Vehicle_Going_Dir</th>\n",
              "      <th>Parked_Vehicle</th>\n",
              "      <th>Equipment_Problems</th>\n",
              "      <th>Location</th>\n",
              "      <th>report_id</th>\n",
              "    </tr>\n",
              "  </thead>\n",
              "  <tbody>\n",
              "    <tr>\n",
              "      <th>0</th>\n",
              "      <td>216</td>\n",
              "      <td>5</td>\n",
              "      <td>1</td>\n",
              "      <td>3</td>\n",
              "      <td>0</td>\n",
              "      <td>161</td>\n",
              "      <td>20</td>\n",
              "      <td>11</td>\n",
              "      <td>15</td>\n",
              "      <td>2</td>\n",
              "      <td>10</td>\n",
              "      <td>4</td>\n",
              "      <td>1</td>\n",
              "      <td>8</td>\n",
              "      <td>9</td>\n",
              "      <td>3</td>\n",
              "      <td>98</td>\n",
              "      <td>25</td>\n",
              "      <td>0</td>\n",
              "      <td>12</td>\n",
              "      <td>12</td>\n",
              "      <td>19</td>\n",
              "      <td>9</td>\n",
              "      <td>2</td>\n",
              "      <td>3</td>\n",
              "      <td>0</td>\n",
              "      <td>4</td>\n",
              "      <td>23738</td>\n",
              "      <td>5</td>\n",
              "    </tr>\n",
              "    <tr>\n",
              "      <th>1</th>\n",
              "      <td>928</td>\n",
              "      <td>5</td>\n",
              "      <td>1</td>\n",
              "      <td>0</td>\n",
              "      <td>0</td>\n",
              "      <td>3935</td>\n",
              "      <td>20</td>\n",
              "      <td>11</td>\n",
              "      <td>16</td>\n",
              "      <td>2</td>\n",
              "      <td>0</td>\n",
              "      <td>4</td>\n",
              "      <td>6</td>\n",
              "      <td>8</td>\n",
              "      <td>9</td>\n",
              "      <td>1</td>\n",
              "      <td>30</td>\n",
              "      <td>25</td>\n",
              "      <td>1</td>\n",
              "      <td>12</td>\n",
              "      <td>12</td>\n",
              "      <td>18</td>\n",
              "      <td>0</td>\n",
              "      <td>2</td>\n",
              "      <td>2</td>\n",
              "      <td>1</td>\n",
              "      <td>4</td>\n",
              "      <td>3146</td>\n",
              "      <td>5</td>\n",
              "    </tr>\n",
              "    <tr>\n",
              "      <th>2</th>\n",
              "      <td>114</td>\n",
              "      <td>5</td>\n",
              "      <td>2</td>\n",
              "      <td>3</td>\n",
              "      <td>3</td>\n",
              "      <td>3935</td>\n",
              "      <td>20</td>\n",
              "      <td>11</td>\n",
              "      <td>13</td>\n",
              "      <td>2</td>\n",
              "      <td>0</td>\n",
              "      <td>7</td>\n",
              "      <td>2</td>\n",
              "      <td>11</td>\n",
              "      <td>9</td>\n",
              "      <td>1</td>\n",
              "      <td>139</td>\n",
              "      <td>10</td>\n",
              "      <td>5</td>\n",
              "      <td>9</td>\n",
              "      <td>9</td>\n",
              "      <td>26</td>\n",
              "      <td>13</td>\n",
              "      <td>4</td>\n",
              "      <td>4</td>\n",
              "      <td>0</td>\n",
              "      <td>4</td>\n",
              "      <td>36906</td>\n",
              "      <td>5</td>\n",
              "    </tr>\n",
              "    <tr>\n",
              "      <th>3</th>\n",
              "      <td>229</td>\n",
              "      <td>5</td>\n",
              "      <td>1</td>\n",
              "      <td>0</td>\n",
              "      <td>0</td>\n",
              "      <td>3935</td>\n",
              "      <td>20</td>\n",
              "      <td>11</td>\n",
              "      <td>7</td>\n",
              "      <td>3</td>\n",
              "      <td>0</td>\n",
              "      <td>4</td>\n",
              "      <td>1</td>\n",
              "      <td>8</td>\n",
              "      <td>9</td>\n",
              "      <td>2</td>\n",
              "      <td>139</td>\n",
              "      <td>25</td>\n",
              "      <td>2</td>\n",
              "      <td>12</td>\n",
              "      <td>13</td>\n",
              "      <td>18</td>\n",
              "      <td>9</td>\n",
              "      <td>2</td>\n",
              "      <td>2</td>\n",
              "      <td>0</td>\n",
              "      <td>5</td>\n",
              "      <td>31353</td>\n",
              "      <td>5</td>\n",
              "    </tr>\n",
              "    <tr>\n",
              "      <th>4</th>\n",
              "      <td>795</td>\n",
              "      <td>5</td>\n",
              "      <td>1</td>\n",
              "      <td>3</td>\n",
              "      <td>0</td>\n",
              "      <td>3935</td>\n",
              "      <td>20</td>\n",
              "      <td>11</td>\n",
              "      <td>9</td>\n",
              "      <td>2</td>\n",
              "      <td>0</td>\n",
              "      <td>4</td>\n",
              "      <td>7</td>\n",
              "      <td>8</td>\n",
              "      <td>4</td>\n",
              "      <td>3</td>\n",
              "      <td>139</td>\n",
              "      <td>25</td>\n",
              "      <td>1</td>\n",
              "      <td>9</td>\n",
              "      <td>9</td>\n",
              "      <td>18</td>\n",
              "      <td>17</td>\n",
              "      <td>2</td>\n",
              "      <td>2</td>\n",
              "      <td>0</td>\n",
              "      <td>4</td>\n",
              "      <td>38537</td>\n",
              "      <td>5</td>\n",
              "    </tr>\n",
              "  </tbody>\n",
              "</table>\n",
              "</div>"
            ],
            "text/plain": [
              "   Local_Case_Number  Agency_Name  ...  Location  report_id\n",
              "0                216            5  ...     23738          5\n",
              "1                928            5  ...      3146          5\n",
              "2                114            5  ...     36906          5\n",
              "3                229            5  ...     31353          5\n",
              "4                795            5  ...     38537          5\n",
              "\n",
              "[5 rows x 29 columns]"
            ]
          },
          "metadata": {},
          "execution_count": 22
        }
      ]
    },
    {
      "cell_type": "code",
      "metadata": {
        "colab": {
          "base_uri": "https://localhost:8080/"
        },
        "id": "dxHJlBJPNVQw",
        "outputId": "e897fb88-b072-47b9-a611-ef5955137609"
      },
      "source": [
        "train_data=dt\n",
        "train_data.shape"
      ],
      "execution_count": 23,
      "outputs": [
        {
          "output_type": "execute_result",
          "data": {
            "text/plain": [
              "(51490, 39)"
            ]
          },
          "metadata": {},
          "execution_count": 23
        }
      ]
    },
    {
      "cell_type": "markdown",
      "metadata": {
        "id": "5yo7L8h00xCo"
      },
      "source": [
        "Scaling Features"
      ]
    },
    {
      "cell_type": "code",
      "metadata": {
        "colab": {
          "base_uri": "https://localhost:8080/"
        },
        "id": "KGl7hXTh1aGR",
        "outputId": "0c88b0c2-ea8d-45fd-bf81-172f1a80f86e"
      },
      "source": [
        "train_data.columns"
      ],
      "execution_count": 24,
      "outputs": [
        {
          "output_type": "execute_result",
          "data": {
            "text/plain": [
              "Index(['Local_Case_Number', 'Agency_Name', 'ACRS_Report_Type', 'Route_Type',\n",
              "       'Cross_Street_Type', 'Off_Road_Description', 'Municipality',\n",
              "       'Related_Non_Motorist', 'Collision_Type', 'Weather',\n",
              "       'Surface_Condition', 'Light', 'Traffic_Control',\n",
              "       'Driver_Substance_Abuse', 'Non_Motorist_Substance_Abuse',\n",
              "       'Injury_Severity', 'Circumstance', 'Drivers_License_State',\n",
              "       'Vehicle_Damage_Extent', 'Vehicle_First_Impact_Location',\n",
              "       'Vehicle_Second_Impact_Location', 'Vehicle_Body_Type',\n",
              "       'Vehicle_Movement', 'Vehicle_Continuing_Dir', 'Vehicle_Going_Dir',\n",
              "       'Speed_Limit', 'Parked_Vehicle', 'Vehicle_Year', 'Equipment_Problems',\n",
              "       'Latitude', 'Longitude', 'Location', 'Fault', 'report_id', 'crash_year',\n",
              "       'crash_quarter', 'crash_month', 'crash_day', 'crash_hour'],\n",
              "      dtype='object')"
            ]
          },
          "metadata": {},
          "execution_count": 24
        }
      ]
    },
    {
      "cell_type": "code",
      "metadata": {
        "colab": {
          "base_uri": "https://localhost:8080/",
          "height": 223
        },
        "id": "MSe-IXO_0G1G",
        "outputId": "acb6b798-9622-41e3-aaee-37d51f684461"
      },
      "source": [
        "col=['Local_Case_Number', 'Agency_Name', 'ACRS_Report_Type', 'Route_Type',\n",
        "       'Cross_Street_Type', 'Off_Road_Description', 'Municipality',\n",
        "       'Related_Non_Motorist', 'Collision_Type', 'Weather',\n",
        "       'Surface_Condition', 'Light', 'Traffic_Control',\n",
        "       'Driver_Substance_Abuse', 'Non_Motorist_Substance_Abuse',\n",
        "       'Injury_Severity', 'Circumstance', 'Drivers_License_State',\n",
        "       'Vehicle_Damage_Extent', 'Vehicle_First_Impact_Location',\n",
        "       'Vehicle_Second_Impact_Location', 'Vehicle_Body_Type',\n",
        "       'Vehicle_Movement', 'Vehicle_Continuing_Dir', 'Vehicle_Going_Dir',\n",
        "       'Speed_Limit', 'Parked_Vehicle', 'Vehicle_Year', 'Equipment_Problems',\n",
        "       'Latitude', 'Longitude', 'Location', 'report_id', 'crash_year',\n",
        "       'crash_quarter', 'crash_month', 'crash_day', 'crash_hour']\n",
        "\n",
        "scaler=StandardScaler().fit(train_data[col])\n",
        "train_scaled_data=scaler.transform(train_data[col])\n",
        "train_data.head()"
      ],
      "execution_count": 25,
      "outputs": [
        {
          "output_type": "execute_result",
          "data": {
            "text/html": [
              "<div>\n",
              "<style scoped>\n",
              "    .dataframe tbody tr th:only-of-type {\n",
              "        vertical-align: middle;\n",
              "    }\n",
              "\n",
              "    .dataframe tbody tr th {\n",
              "        vertical-align: top;\n",
              "    }\n",
              "\n",
              "    .dataframe thead th {\n",
              "        text-align: right;\n",
              "    }\n",
              "</style>\n",
              "<table border=\"1\" class=\"dataframe\">\n",
              "  <thead>\n",
              "    <tr style=\"text-align: right;\">\n",
              "      <th></th>\n",
              "      <th>Local_Case_Number</th>\n",
              "      <th>Agency_Name</th>\n",
              "      <th>ACRS_Report_Type</th>\n",
              "      <th>Route_Type</th>\n",
              "      <th>Cross_Street_Type</th>\n",
              "      <th>Off_Road_Description</th>\n",
              "      <th>Municipality</th>\n",
              "      <th>Related_Non_Motorist</th>\n",
              "      <th>Collision_Type</th>\n",
              "      <th>Weather</th>\n",
              "      <th>Surface_Condition</th>\n",
              "      <th>Light</th>\n",
              "      <th>Traffic_Control</th>\n",
              "      <th>Driver_Substance_Abuse</th>\n",
              "      <th>Non_Motorist_Substance_Abuse</th>\n",
              "      <th>Injury_Severity</th>\n",
              "      <th>Circumstance</th>\n",
              "      <th>Drivers_License_State</th>\n",
              "      <th>Vehicle_Damage_Extent</th>\n",
              "      <th>Vehicle_First_Impact_Location</th>\n",
              "      <th>Vehicle_Second_Impact_Location</th>\n",
              "      <th>Vehicle_Body_Type</th>\n",
              "      <th>Vehicle_Movement</th>\n",
              "      <th>Vehicle_Continuing_Dir</th>\n",
              "      <th>Vehicle_Going_Dir</th>\n",
              "      <th>Speed_Limit</th>\n",
              "      <th>Parked_Vehicle</th>\n",
              "      <th>Vehicle_Year</th>\n",
              "      <th>Equipment_Problems</th>\n",
              "      <th>Latitude</th>\n",
              "      <th>Longitude</th>\n",
              "      <th>Location</th>\n",
              "      <th>Fault</th>\n",
              "      <th>report_id</th>\n",
              "      <th>crash_year</th>\n",
              "      <th>crash_quarter</th>\n",
              "      <th>crash_month</th>\n",
              "      <th>crash_day</th>\n",
              "      <th>crash_hour</th>\n",
              "    </tr>\n",
              "  </thead>\n",
              "  <tbody>\n",
              "    <tr>\n",
              "      <th>0</th>\n",
              "      <td>216</td>\n",
              "      <td>5</td>\n",
              "      <td>1</td>\n",
              "      <td>3</td>\n",
              "      <td>0</td>\n",
              "      <td>161</td>\n",
              "      <td>20</td>\n",
              "      <td>11</td>\n",
              "      <td>15</td>\n",
              "      <td>2</td>\n",
              "      <td>10</td>\n",
              "      <td>4</td>\n",
              "      <td>1</td>\n",
              "      <td>8</td>\n",
              "      <td>9</td>\n",
              "      <td>3</td>\n",
              "      <td>98</td>\n",
              "      <td>25</td>\n",
              "      <td>0</td>\n",
              "      <td>12</td>\n",
              "      <td>12</td>\n",
              "      <td>19</td>\n",
              "      <td>9</td>\n",
              "      <td>2</td>\n",
              "      <td>3</td>\n",
              "      <td>40</td>\n",
              "      <td>0</td>\n",
              "      <td>2005</td>\n",
              "      <td>4</td>\n",
              "      <td>39.263378</td>\n",
              "      <td>-77.344203</td>\n",
              "      <td>23738</td>\n",
              "      <td>1</td>\n",
              "      <td>5</td>\n",
              "      <td>2017</td>\n",
              "      <td>2</td>\n",
              "      <td>6</td>\n",
              "      <td>5</td>\n",
              "      <td>16</td>\n",
              "    </tr>\n",
              "    <tr>\n",
              "      <th>1</th>\n",
              "      <td>928</td>\n",
              "      <td>5</td>\n",
              "      <td>1</td>\n",
              "      <td>0</td>\n",
              "      <td>0</td>\n",
              "      <td>3935</td>\n",
              "      <td>20</td>\n",
              "      <td>11</td>\n",
              "      <td>16</td>\n",
              "      <td>2</td>\n",
              "      <td>0</td>\n",
              "      <td>4</td>\n",
              "      <td>6</td>\n",
              "      <td>8</td>\n",
              "      <td>9</td>\n",
              "      <td>1</td>\n",
              "      <td>30</td>\n",
              "      <td>25</td>\n",
              "      <td>1</td>\n",
              "      <td>12</td>\n",
              "      <td>12</td>\n",
              "      <td>18</td>\n",
              "      <td>0</td>\n",
              "      <td>2</td>\n",
              "      <td>2</td>\n",
              "      <td>25</td>\n",
              "      <td>1</td>\n",
              "      <td>2018</td>\n",
              "      <td>4</td>\n",
              "      <td>39.068913</td>\n",
              "      <td>-77.063227</td>\n",
              "      <td>3146</td>\n",
              "      <td>1</td>\n",
              "      <td>5</td>\n",
              "      <td>2020</td>\n",
              "      <td>1</td>\n",
              "      <td>2</td>\n",
              "      <td>22</td>\n",
              "      <td>10</td>\n",
              "    </tr>\n",
              "    <tr>\n",
              "      <th>2</th>\n",
              "      <td>114</td>\n",
              "      <td>5</td>\n",
              "      <td>2</td>\n",
              "      <td>3</td>\n",
              "      <td>3</td>\n",
              "      <td>3935</td>\n",
              "      <td>20</td>\n",
              "      <td>11</td>\n",
              "      <td>13</td>\n",
              "      <td>2</td>\n",
              "      <td>0</td>\n",
              "      <td>7</td>\n",
              "      <td>2</td>\n",
              "      <td>11</td>\n",
              "      <td>9</td>\n",
              "      <td>1</td>\n",
              "      <td>139</td>\n",
              "      <td>10</td>\n",
              "      <td>5</td>\n",
              "      <td>9</td>\n",
              "      <td>9</td>\n",
              "      <td>26</td>\n",
              "      <td>13</td>\n",
              "      <td>4</td>\n",
              "      <td>4</td>\n",
              "      <td>35</td>\n",
              "      <td>0</td>\n",
              "      <td>2016</td>\n",
              "      <td>4</td>\n",
              "      <td>38.993578</td>\n",
              "      <td>-77.032718</td>\n",
              "      <td>36906</td>\n",
              "      <td>0</td>\n",
              "      <td>5</td>\n",
              "      <td>2017</td>\n",
              "      <td>2</td>\n",
              "      <td>6</td>\n",
              "      <td>11</td>\n",
              "      <td>8</td>\n",
              "    </tr>\n",
              "    <tr>\n",
              "      <th>3</th>\n",
              "      <td>229</td>\n",
              "      <td>5</td>\n",
              "      <td>1</td>\n",
              "      <td>0</td>\n",
              "      <td>0</td>\n",
              "      <td>3935</td>\n",
              "      <td>20</td>\n",
              "      <td>11</td>\n",
              "      <td>7</td>\n",
              "      <td>3</td>\n",
              "      <td>0</td>\n",
              "      <td>4</td>\n",
              "      <td>1</td>\n",
              "      <td>8</td>\n",
              "      <td>9</td>\n",
              "      <td>2</td>\n",
              "      <td>139</td>\n",
              "      <td>25</td>\n",
              "      <td>2</td>\n",
              "      <td>12</td>\n",
              "      <td>13</td>\n",
              "      <td>18</td>\n",
              "      <td>9</td>\n",
              "      <td>2</td>\n",
              "      <td>2</td>\n",
              "      <td>25</td>\n",
              "      <td>0</td>\n",
              "      <td>2001</td>\n",
              "      <td>5</td>\n",
              "      <td>39.083480</td>\n",
              "      <td>-77.086933</td>\n",
              "      <td>31353</td>\n",
              "      <td>1</td>\n",
              "      <td>5</td>\n",
              "      <td>2019</td>\n",
              "      <td>2</td>\n",
              "      <td>5</td>\n",
              "      <td>10</td>\n",
              "      <td>7</td>\n",
              "    </tr>\n",
              "    <tr>\n",
              "      <th>4</th>\n",
              "      <td>795</td>\n",
              "      <td>5</td>\n",
              "      <td>1</td>\n",
              "      <td>3</td>\n",
              "      <td>0</td>\n",
              "      <td>3935</td>\n",
              "      <td>20</td>\n",
              "      <td>11</td>\n",
              "      <td>9</td>\n",
              "      <td>2</td>\n",
              "      <td>0</td>\n",
              "      <td>4</td>\n",
              "      <td>7</td>\n",
              "      <td>8</td>\n",
              "      <td>4</td>\n",
              "      <td>3</td>\n",
              "      <td>139</td>\n",
              "      <td>25</td>\n",
              "      <td>1</td>\n",
              "      <td>9</td>\n",
              "      <td>9</td>\n",
              "      <td>18</td>\n",
              "      <td>17</td>\n",
              "      <td>2</td>\n",
              "      <td>2</td>\n",
              "      <td>40</td>\n",
              "      <td>0</td>\n",
              "      <td>2013</td>\n",
              "      <td>4</td>\n",
              "      <td>38.996942</td>\n",
              "      <td>-77.109168</td>\n",
              "      <td>38537</td>\n",
              "      <td>0</td>\n",
              "      <td>5</td>\n",
              "      <td>2016</td>\n",
              "      <td>3</td>\n",
              "      <td>8</td>\n",
              "      <td>2</td>\n",
              "      <td>17</td>\n",
              "    </tr>\n",
              "  </tbody>\n",
              "</table>\n",
              "</div>"
            ],
            "text/plain": [
              "   Local_Case_Number  Agency_Name  ...  crash_day  crash_hour\n",
              "0                216            5  ...          5          16\n",
              "1                928            5  ...         22          10\n",
              "2                114            5  ...         11           8\n",
              "3                229            5  ...         10           7\n",
              "4                795            5  ...          2          17\n",
              "\n",
              "[5 rows x 39 columns]"
            ]
          },
          "metadata": {},
          "execution_count": 25
        }
      ]
    },
    {
      "cell_type": "code",
      "metadata": {
        "id": "BjmBAjrN_gX3"
      },
      "source": [
        "df=pd.DataFrame(train_scaled_data,columns=col)\n",
        "df['Fault']=train_data['Fault']\n",
        "train_data=df"
      ],
      "execution_count": 26,
      "outputs": []
    },
    {
      "cell_type": "code",
      "metadata": {
        "colab": {
          "base_uri": "https://localhost:8080/",
          "height": 130
        },
        "id": "sA6UyHrXN6Vk",
        "outputId": "3145ebc1-544a-47f7-fefa-cf53b8e1142d"
      },
      "source": [
        "train_data.head(2)"
      ],
      "execution_count": 27,
      "outputs": [
        {
          "output_type": "execute_result",
          "data": {
            "text/html": [
              "<div>\n",
              "<style scoped>\n",
              "    .dataframe tbody tr th:only-of-type {\n",
              "        vertical-align: middle;\n",
              "    }\n",
              "\n",
              "    .dataframe tbody tr th {\n",
              "        vertical-align: top;\n",
              "    }\n",
              "\n",
              "    .dataframe thead th {\n",
              "        text-align: right;\n",
              "    }\n",
              "</style>\n",
              "<table border=\"1\" class=\"dataframe\">\n",
              "  <thead>\n",
              "    <tr style=\"text-align: right;\">\n",
              "      <th></th>\n",
              "      <th>Local_Case_Number</th>\n",
              "      <th>Agency_Name</th>\n",
              "      <th>ACRS_Report_Type</th>\n",
              "      <th>Route_Type</th>\n",
              "      <th>Cross_Street_Type</th>\n",
              "      <th>Off_Road_Description</th>\n",
              "      <th>Municipality</th>\n",
              "      <th>Related_Non_Motorist</th>\n",
              "      <th>Collision_Type</th>\n",
              "      <th>Weather</th>\n",
              "      <th>Surface_Condition</th>\n",
              "      <th>Light</th>\n",
              "      <th>Traffic_Control</th>\n",
              "      <th>Driver_Substance_Abuse</th>\n",
              "      <th>Non_Motorist_Substance_Abuse</th>\n",
              "      <th>Injury_Severity</th>\n",
              "      <th>Circumstance</th>\n",
              "      <th>Drivers_License_State</th>\n",
              "      <th>Vehicle_Damage_Extent</th>\n",
              "      <th>Vehicle_First_Impact_Location</th>\n",
              "      <th>Vehicle_Second_Impact_Location</th>\n",
              "      <th>Vehicle_Body_Type</th>\n",
              "      <th>Vehicle_Movement</th>\n",
              "      <th>Vehicle_Continuing_Dir</th>\n",
              "      <th>Vehicle_Going_Dir</th>\n",
              "      <th>Speed_Limit</th>\n",
              "      <th>Parked_Vehicle</th>\n",
              "      <th>Vehicle_Year</th>\n",
              "      <th>Equipment_Problems</th>\n",
              "      <th>Latitude</th>\n",
              "      <th>Longitude</th>\n",
              "      <th>Location</th>\n",
              "      <th>report_id</th>\n",
              "      <th>crash_year</th>\n",
              "      <th>crash_quarter</th>\n",
              "      <th>crash_month</th>\n",
              "      <th>crash_day</th>\n",
              "      <th>crash_hour</th>\n",
              "      <th>Fault</th>\n",
              "    </tr>\n",
              "  </thead>\n",
              "  <tbody>\n",
              "    <tr>\n",
              "      <th>0</th>\n",
              "      <td>-0.906966</td>\n",
              "      <td>0.135933</td>\n",
              "      <td>-1.144251</td>\n",
              "      <td>-0.021103</td>\n",
              "      <td>-0.844447</td>\n",
              "      <td>-4.494613</td>\n",
              "      <td>0.344624</td>\n",
              "      <td>0.216333</td>\n",
              "      <td>1.077248</td>\n",
              "      <td>-0.541286</td>\n",
              "      <td>1.44903</td>\n",
              "      <td>0.450872</td>\n",
              "      <td>-1.091975</td>\n",
              "      <td>-0.137463</td>\n",
              "      <td>0.232812</td>\n",
              "      <td>2.409571</td>\n",
              "      <td>-1.186745</td>\n",
              "      <td>-0.28778</td>\n",
              "      <td>-1.396104</td>\n",
              "      <td>0.775011</td>\n",
              "      <td>0.771634</td>\n",
              "      <td>0.326719</td>\n",
              "      <td>-0.306763</td>\n",
              "      <td>0.122028</td>\n",
              "      <td>0.818131</td>\n",
              "      <td>0.607417</td>\n",
              "      <td>-0.198980</td>\n",
              "      <td>0.073209</td>\n",
              "      <td>-0.575623</td>\n",
              "      <td>2.506127</td>\n",
              "      <td>-2.355209</td>\n",
              "      <td>0.383776</td>\n",
              "      <td>0.359767</td>\n",
              "      <td>-0.373083</td>\n",
              "      <td>-0.476245</td>\n",
              "      <td>-0.170255</td>\n",
              "      <td>-1.223804</td>\n",
              "      <td>0.506135</td>\n",
              "      <td>1</td>\n",
              "    </tr>\n",
              "    <tr>\n",
              "      <th>1</th>\n",
              "      <td>0.717181</td>\n",
              "      <td>0.135933</td>\n",
              "      <td>-1.144251</td>\n",
              "      <td>-1.017081</td>\n",
              "      <td>-0.844447</td>\n",
              "      <td>0.332039</td>\n",
              "      <td>0.344624</td>\n",
              "      <td>0.216333</td>\n",
              "      <td>1.310307</td>\n",
              "      <td>-0.541286</td>\n",
              "      <td>-0.68082</td>\n",
              "      <td>0.450872</td>\n",
              "      <td>0.247021</td>\n",
              "      <td>-0.137463</td>\n",
              "      <td>0.232812</td>\n",
              "      <td>-0.434935</td>\n",
              "      <td>-3.843196</td>\n",
              "      <td>-0.28778</td>\n",
              "      <td>-0.851477</td>\n",
              "      <td>0.775011</td>\n",
              "      <td>0.771634</td>\n",
              "      <td>0.173171</td>\n",
              "      <td>-1.811965</td>\n",
              "      <td>0.122028</td>\n",
              "      <td>0.126096</td>\n",
              "      <td>-0.675012</td>\n",
              "      <td>5.025635</td>\n",
              "      <td>0.143053</td>\n",
              "      <td>-0.575623</td>\n",
              "      <td>-0.192464</td>\n",
              "      <td>0.503167</td>\n",
              "      <td>-1.446941</td>\n",
              "      <td>0.359767</td>\n",
              "      <td>1.222966</td>\n",
              "      <td>-1.374316</td>\n",
              "      <td>-1.336589</td>\n",
              "      <td>0.721165</td>\n",
              "      <td>-0.640248</td>\n",
              "      <td>1</td>\n",
              "    </tr>\n",
              "  </tbody>\n",
              "</table>\n",
              "</div>"
            ],
            "text/plain": [
              "   Local_Case_Number  Agency_Name  ...  crash_hour  Fault\n",
              "0          -0.906966     0.135933  ...    0.506135      1\n",
              "1           0.717181     0.135933  ...   -0.640248      1\n",
              "\n",
              "[2 rows x 39 columns]"
            ]
          },
          "metadata": {},
          "execution_count": 27
        }
      ]
    },
    {
      "cell_type": "code",
      "metadata": {
        "colab": {
          "base_uri": "https://localhost:8080/"
        },
        "id": "BsrC0w8Xeq1H",
        "outputId": "9f4087b8-1fbc-4b07-80a8-78edf033cf73"
      },
      "source": [
        "train_data.isnull().sum().sum()"
      ],
      "execution_count": 28,
      "outputs": [
        {
          "output_type": "execute_result",
          "data": {
            "text/plain": [
              "0"
            ]
          },
          "metadata": {},
          "execution_count": 28
        }
      ]
    },
    {
      "cell_type": "markdown",
      "metadata": {
        "id": "v6oVuQXTCpIO"
      },
      "source": [
        "\n",
        "## **Training**"
      ]
    },
    {
      "cell_type": "markdown",
      "metadata": {
        "id": "kUzysorZOPL0"
      },
      "source": [
        "**Splitting train data into train and validation set**"
      ]
    },
    {
      "cell_type": "code",
      "metadata": {
        "id": "RS5IaHVAOhZa"
      },
      "source": [
        "X=train_data.drop(['Fault','Municipality','Local_Case_Number', 'Agency_Name', 'report_id','Vehicle_Year' ],axis=1)\n",
        "y=train_data['Fault']"
      ],
      "execution_count": 29,
      "outputs": []
    },
    {
      "cell_type": "code",
      "metadata": {
        "id": "CJ8xgUInPbo6"
      },
      "source": [
        "X_train, X_val, y_train, y_val = train_test_split(X,y, test_size=0.3, random_state=42)"
      ],
      "execution_count": 30,
      "outputs": []
    },
    {
      "cell_type": "code",
      "metadata": {
        "colab": {
          "base_uri": "https://localhost:8080/"
        },
        "id": "0TfaOWxNCaLW",
        "outputId": "d98ae76f-d3a2-4c0f-fa79-66c04e111c12"
      },
      "source": [
        "X_train.columns"
      ],
      "execution_count": 31,
      "outputs": [
        {
          "output_type": "execute_result",
          "data": {
            "text/plain": [
              "Index(['ACRS_Report_Type', 'Route_Type', 'Cross_Street_Type',\n",
              "       'Off_Road_Description', 'Related_Non_Motorist', 'Collision_Type',\n",
              "       'Weather', 'Surface_Condition', 'Light', 'Traffic_Control',\n",
              "       'Driver_Substance_Abuse', 'Non_Motorist_Substance_Abuse',\n",
              "       'Injury_Severity', 'Circumstance', 'Drivers_License_State',\n",
              "       'Vehicle_Damage_Extent', 'Vehicle_First_Impact_Location',\n",
              "       'Vehicle_Second_Impact_Location', 'Vehicle_Body_Type',\n",
              "       'Vehicle_Movement', 'Vehicle_Continuing_Dir', 'Vehicle_Going_Dir',\n",
              "       'Speed_Limit', 'Parked_Vehicle', 'Equipment_Problems', 'Latitude',\n",
              "       'Longitude', 'Location', 'crash_year', 'crash_quarter', 'crash_month',\n",
              "       'crash_day', 'crash_hour'],\n",
              "      dtype='object')"
            ]
          },
          "metadata": {},
          "execution_count": 31
        }
      ]
    },
    {
      "cell_type": "markdown",
      "metadata": {
        "id": "_uzWyhx9PQIz"
      },
      "source": [
        "**Training Models**"
      ]
    },
    {
      "cell_type": "markdown",
      "metadata": {
        "id": "ckJcL9M8Z_Gh"
      },
      "source": [
        "GRADIENT BOOSTING CLASSIFIER"
      ]
    },
    {
      "cell_type": "code",
      "metadata": {
        "colab": {
          "base_uri": "https://localhost:8080/"
        },
        "id": "Gs0XURyJPSzn",
        "outputId": "fb477826-c6b1-40b7-8932-897422c2b205"
      },
      "source": [
        "model=GradientBoostingClassifier(max_depth=7, random_state=1,n_estimators=103, max_features=28)\n",
        "model.fit(X_train,y_train)"
      ],
      "execution_count": 32,
      "outputs": [
        {
          "output_type": "execute_result",
          "data": {
            "text/plain": [
              "GradientBoostingClassifier(ccp_alpha=0.0, criterion='friedman_mse', init=None,\n",
              "                           learning_rate=0.1, loss='deviance', max_depth=7,\n",
              "                           max_features=28, max_leaf_nodes=None,\n",
              "                           min_impurity_decrease=0.0, min_impurity_split=None,\n",
              "                           min_samples_leaf=1, min_samples_split=2,\n",
              "                           min_weight_fraction_leaf=0.0, n_estimators=103,\n",
              "                           n_iter_no_change=None, presort='deprecated',\n",
              "                           random_state=1, subsample=1.0, tol=0.0001,\n",
              "                           validation_fraction=0.1, verbose=0,\n",
              "                           warm_start=False)"
            ]
          },
          "metadata": {},
          "execution_count": 32
        }
      ]
    },
    {
      "cell_type": "code",
      "metadata": {
        "colab": {
          "base_uri": "https://localhost:8080/"
        },
        "id": "AkrOef9mSF1e",
        "outputId": "376c28e6-be47-4869-9584-f3f65d5b5e44"
      },
      "source": [
        "gbc=model.predict(X_val)\n",
        "print(\"Validation Score:\")\n",
        "print(accuracy_score(y_val,gbc))"
      ],
      "execution_count": 33,
      "outputs": [
        {
          "output_type": "stream",
          "name": "stdout",
          "text": [
            "Validation Score:\n",
            "0.8523337864957597\n"
          ]
        }
      ]
    },
    {
      "cell_type": "markdown",
      "metadata": {
        "id": "mQ5SpZXKccVu"
      },
      "source": [
        "XGBOOST CLASSIFIER"
      ]
    },
    {
      "cell_type": "code",
      "metadata": {
        "colab": {
          "base_uri": "https://localhost:8080/"
        },
        "id": "sjQpkmTucc9Y",
        "outputId": "a6379bc0-5400-4565-ab9c-b6745bc180eb"
      },
      "source": [
        "import xgboost as xgb\n",
        "from xgboost.sklearn import XGBClassifier\n",
        "\n",
        "xg = XGBClassifier(random_state=1, max_depth=6, n_estimators=163, learning_rate=0.1)\n",
        "xg.fit(X_train,y_train)"
      ],
      "execution_count": 34,
      "outputs": [
        {
          "output_type": "execute_result",
          "data": {
            "text/plain": [
              "XGBClassifier(base_score=0.5, booster='gbtree', colsample_bylevel=1,\n",
              "              colsample_bynode=1, colsample_bytree=1, gamma=0,\n",
              "              learning_rate=0.1, max_delta_step=0, max_depth=6,\n",
              "              min_child_weight=1, missing=None, n_estimators=163, n_jobs=1,\n",
              "              nthread=None, objective='binary:logistic', random_state=1,\n",
              "              reg_alpha=0, reg_lambda=1, scale_pos_weight=1, seed=None,\n",
              "              silent=None, subsample=1, verbosity=1)"
            ]
          },
          "metadata": {},
          "execution_count": 34
        }
      ]
    },
    {
      "cell_type": "code",
      "metadata": {
        "colab": {
          "base_uri": "https://localhost:8080/"
        },
        "id": "etKveM7ZcdgE",
        "outputId": "9839583d-2906-432f-b99d-c6722d7bc509"
      },
      "source": [
        "xgbc=xg.predict(X_val)\n",
        "\n",
        "print(\"Validation Score:\")\n",
        "print(accuracy_score(y_val,xgbc))"
      ],
      "execution_count": 35,
      "outputs": [
        {
          "output_type": "stream",
          "name": "stdout",
          "text": [
            "Validation Score:\n",
            "0.849614811937593\n"
          ]
        }
      ]
    },
    {
      "cell_type": "markdown",
      "metadata": {
        "id": "i36ZPwphaFzh"
      },
      "source": [
        "RANDOM FOREST CLASSIFIER"
      ]
    },
    {
      "cell_type": "code",
      "metadata": {
        "colab": {
          "base_uri": "https://localhost:8080/"
        },
        "id": "T9Jyg_ucgnrs",
        "outputId": "49cb511e-b68e-442a-c75a-ee81060faf62"
      },
      "source": [
        "from sklearn.ensemble import RandomForestClassifier\n",
        "\n",
        "clf = RandomForestClassifier(random_state=1,max_features=31, max_depth=12,n_estimators=103)\n",
        "clf.fit(X_train, y_train)"
      ],
      "execution_count": 36,
      "outputs": [
        {
          "output_type": "execute_result",
          "data": {
            "text/plain": [
              "RandomForestClassifier(bootstrap=True, ccp_alpha=0.0, class_weight=None,\n",
              "                       criterion='gini', max_depth=12, max_features=31,\n",
              "                       max_leaf_nodes=None, max_samples=None,\n",
              "                       min_impurity_decrease=0.0, min_impurity_split=None,\n",
              "                       min_samples_leaf=1, min_samples_split=2,\n",
              "                       min_weight_fraction_leaf=0.0, n_estimators=103,\n",
              "                       n_jobs=None, oob_score=False, random_state=1, verbose=0,\n",
              "                       warm_start=False)"
            ]
          },
          "metadata": {},
          "execution_count": 36
        }
      ]
    },
    {
      "cell_type": "code",
      "metadata": {
        "colab": {
          "base_uri": "https://localhost:8080/"
        },
        "id": "NyWyyocNhDTT",
        "outputId": "f4e9a6cd-a2ff-4211-c368-b08926f082e5"
      },
      "source": [
        "rfc=clf.predict(X_val)\n",
        "\n",
        "print(\"Validation Score:\")\n",
        "print(accuracy_score(y_val,rfc))"
      ],
      "execution_count": 37,
      "outputs": [
        {
          "output_type": "stream",
          "name": "stdout",
          "text": [
            "Validation Score:\n",
            "0.8376383763837638\n"
          ]
        }
      ]
    },
    {
      "cell_type": "markdown",
      "metadata": {
        "id": "EViCGfBMkEd7"
      },
      "source": [
        "DECISION TREE CLASSIFIER"
      ]
    },
    {
      "cell_type": "code",
      "metadata": {
        "colab": {
          "base_uri": "https://localhost:8080/"
        },
        "id": "g1ZziWcekEHA",
        "outputId": "84f0301d-81a4-4b30-e708-e357bc282d38"
      },
      "source": [
        "from sklearn import tree\n",
        "\n",
        "dtc = tree.DecisionTreeClassifier(random_state=1, max_depth=5)\n",
        "dtc.fit(X_train,y_train)"
      ],
      "execution_count": 38,
      "outputs": [
        {
          "output_type": "execute_result",
          "data": {
            "text/plain": [
              "DecisionTreeClassifier(ccp_alpha=0.0, class_weight=None, criterion='gini',\n",
              "                       max_depth=5, max_features=None, max_leaf_nodes=None,\n",
              "                       min_impurity_decrease=0.0, min_impurity_split=None,\n",
              "                       min_samples_leaf=1, min_samples_split=2,\n",
              "                       min_weight_fraction_leaf=0.0, presort='deprecated',\n",
              "                       random_state=1, splitter='best')"
            ]
          },
          "metadata": {},
          "execution_count": 38
        }
      ]
    },
    {
      "cell_type": "code",
      "metadata": {
        "colab": {
          "base_uri": "https://localhost:8080/"
        },
        "id": "dxqPmUfvlHBd",
        "outputId": "fbb772df-ea5f-4104-8ecb-5e1b21cc2010"
      },
      "source": [
        "x=dtc.predict(X_val)\n",
        "\n",
        "print(\"validation score:\")\n",
        "print(accuracy_score(y_val,rfc))"
      ],
      "execution_count": 39,
      "outputs": [
        {
          "output_type": "stream",
          "name": "stdout",
          "text": [
            "validation score:\n",
            "0.8376383763837638\n"
          ]
        }
      ]
    },
    {
      "cell_type": "markdown",
      "metadata": {
        "id": "vBgcUJ3sVXit"
      },
      "source": [
        "##**Testing**"
      ]
    },
    {
      "cell_type": "code",
      "metadata": {
        "colab": {
          "base_uri": "https://localhost:8080/"
        },
        "id": "02xugv7siFRL",
        "outputId": "c3e3583b-8f85-4afb-e95b-b56eaf344f81"
      },
      "source": [
        "test_data=pd.read_csv(\"test.csv\")"
      ],
      "execution_count": 40,
      "outputs": [
        {
          "output_type": "stream",
          "name": "stderr",
          "text": [
            "/usr/local/lib/python3.7/dist-packages/IPython/core/interactiveshell.py:2718: DtypeWarning: Columns (2) have mixed types.Specify dtype option on import or set low_memory=False.\n",
            "  interactivity=interactivity, compiler=compiler, result=result)\n"
          ]
        }
      ]
    },
    {
      "cell_type": "code",
      "metadata": {
        "colab": {
          "base_uri": "https://localhost:8080/"
        },
        "id": "n_0LY6cuVYVb",
        "outputId": "ad132b2c-9ce2-4950-a3a2-12cb4a7aac03"
      },
      "source": [
        "print(test_data.shape)\n",
        "print(test_data.columns)\n",
        "print(f\"Total Null values: {test_data.isnull().sum().sum()}\")"
      ],
      "execution_count": 41,
      "outputs": [
        {
          "output_type": "stream",
          "name": "stdout",
          "text": [
            "(77235, 42)\n",
            "Index(['Id', 'Report Number', 'Local Case Number', 'Agency Name',\n",
            "       'ACRS Report Type', 'Crash Date/Time', 'Route Type', 'Road Name',\n",
            "       'Cross-Street Type', 'Cross-Street Name', 'Off-Road Description',\n",
            "       'Municipality', 'Related Non-Motorist', 'Collision Type', 'Weather',\n",
            "       'Surface Condition', 'Light', 'Traffic Control',\n",
            "       'Driver Substance Abuse', 'Non-Motorist Substance Abuse', 'Person ID',\n",
            "       'Injury Severity', 'Circumstance', 'Drivers License State',\n",
            "       'Vehicle ID', 'Vehicle Damage Extent', 'Vehicle First Impact Location',\n",
            "       'Vehicle Second Impact Location', 'Vehicle Body Type',\n",
            "       'Vehicle Movement', 'Vehicle Continuing Dir', 'Vehicle Going Dir',\n",
            "       'Speed Limit', 'Driverless Vehicle', 'Parked Vehicle', 'Vehicle Year',\n",
            "       'Vehicle Make', 'Vehicle Model', 'Equipment Problems', 'Latitude',\n",
            "       'Longitude', 'Location'],\n",
            "      dtype='object')\n",
            "Total Null values: 457654\n"
          ]
        }
      ]
    },
    {
      "cell_type": "code",
      "metadata": {
        "id": "OsSVyCIfVvsj"
      },
      "source": [
        "test_data.columns = test_data.columns.str.replace(' ', '_')\n",
        "test_data.columns = test_data.columns.str.replace('/', '_')\n",
        "test_data.columns = test_data.columns.str.replace('-', '_')"
      ],
      "execution_count": 42,
      "outputs": []
    },
    {
      "cell_type": "code",
      "metadata": {
        "id": "hOW0R9Nmg0O1"
      },
      "source": [
        "test_data['Vehicle_Year']=test_data['Vehicle_Year'].fillna(0)"
      ],
      "execution_count": 43,
      "outputs": []
    },
    {
      "cell_type": "code",
      "metadata": {
        "colab": {
          "base_uri": "https://localhost:8080/"
        },
        "id": "uVG0dnRvg0C5",
        "outputId": "40589c2d-d7a4-4864-d099-b2381937a291"
      },
      "source": [
        "test_data['report_id'] = test_data['Report_Number'].apply(lambda x: x[0:2])\n",
        "test_data.report_id.unique()"
      ],
      "execution_count": 44,
      "outputs": [
        {
          "output_type": "execute_result",
          "data": {
            "text/plain": [
              "array(['MP', 'D5', 'E7', 'H2', 'D8'], dtype=object)"
            ]
          },
          "metadata": {},
          "execution_count": 44
        }
      ]
    },
    {
      "cell_type": "code",
      "metadata": {
        "colab": {
          "base_uri": "https://localhost:8080/"
        },
        "id": "_qLCe_r5gzc6",
        "outputId": "657c8ea0-b506-4e56-f017-613251c37938"
      },
      "source": [
        "test_data = test_data.drop(['Report_Number', 'Person_ID', 'Vehicle_ID', 'Driverless_Vehicle', \n",
        "                              'Vehicle_Make', 'Vehicle_Model', 'Road_Name', 'Cross_Street_Name' ], axis=1)\n",
        "test_data.shape"
      ],
      "execution_count": 45,
      "outputs": [
        {
          "output_type": "execute_result",
          "data": {
            "text/plain": [
              "(77235, 35)"
            ]
          },
          "metadata": {},
          "execution_count": 45
        }
      ]
    },
    {
      "cell_type": "code",
      "metadata": {
        "id": "znQzJQLvW3XR"
      },
      "source": [
        "test_data['Crash_Date_Time'] =  pd.to_datetime(test_data['Crash_Date_Time'])\n",
        "test_data['crash_year'] = test_data['Crash_Date_Time'].dt.year\n",
        "test_data['crash_quarter'] = test_data['Crash_Date_Time'].dt.quarter\n",
        "test_data['crash_month'] = test_data['Crash_Date_Time'].dt.month\n",
        "test_data['crash_day'] = test_data['Crash_Date_Time'].dt.day\n",
        "test_data['crash_hour'] = test_data['Crash_Date_Time'].dt.hour"
      ],
      "execution_count": 46,
      "outputs": []
    },
    {
      "cell_type": "code",
      "metadata": {
        "id": "erXpdBlIXJ1W"
      },
      "source": [
        "test_data=test_data.drop(['Crash_Date_Time'],axis=1)"
      ],
      "execution_count": 47,
      "outputs": []
    },
    {
      "cell_type": "code",
      "metadata": {
        "colab": {
          "base_uri": "https://localhost:8080/"
        },
        "id": "9i-xECdlXgge",
        "outputId": "9be171a3-c3a1-4912-d4b9-682a9c9fa843"
      },
      "source": [
        "test_data.Id"
      ],
      "execution_count": 48,
      "outputs": [
        {
          "output_type": "execute_result",
          "data": {
            "text/plain": [
              "0            0\n",
              "1            1\n",
              "2            2\n",
              "3            3\n",
              "4            4\n",
              "         ...  \n",
              "77230    77230\n",
              "77231    77231\n",
              "77232    77232\n",
              "77233    77233\n",
              "77234    77234\n",
              "Name: Id, Length: 77235, dtype: int64"
            ]
          },
          "metadata": {},
          "execution_count": 48
        }
      ]
    },
    {
      "cell_type": "code",
      "metadata": {
        "colab": {
          "base_uri": "https://localhost:8080/"
        },
        "id": "quRyl-9fXbUD",
        "outputId": "65d6e429-3920-4dfb-c18c-3522d8991f76"
      },
      "source": [
        "l=[]\n",
        "\n",
        "for i in test_data.columns:\n",
        "   if test_data[i].dtypes == \"object\":\n",
        "     l.append(i)\n",
        "print(l)\n",
        "print(len(l))"
      ],
      "execution_count": 49,
      "outputs": [
        {
          "output_type": "stream",
          "name": "stdout",
          "text": [
            "['Local_Case_Number', 'Agency_Name', 'ACRS_Report_Type', 'Route_Type', 'Cross_Street_Type', 'Off_Road_Description', 'Municipality', 'Related_Non_Motorist', 'Collision_Type', 'Weather', 'Surface_Condition', 'Light', 'Traffic_Control', 'Driver_Substance_Abuse', 'Non_Motorist_Substance_Abuse', 'Injury_Severity', 'Circumstance', 'Drivers_License_State', 'Vehicle_Damage_Extent', 'Vehicle_First_Impact_Location', 'Vehicle_Second_Impact_Location', 'Vehicle_Body_Type', 'Vehicle_Movement', 'Vehicle_Continuing_Dir', 'Vehicle_Going_Dir', 'Parked_Vehicle', 'Equipment_Problems', 'Location', 'report_id']\n",
            "29\n"
          ]
        }
      ]
    },
    {
      "cell_type": "code",
      "metadata": {
        "colab": {
          "base_uri": "https://localhost:8080/"
        },
        "id": "9cyCAkA_XnSL",
        "outputId": "2f871c11-1443-4fdc-c174-841aa3235c74"
      },
      "source": [
        "dt=test_data\n",
        "le = LabelEncoder()\n",
        "\n",
        "for j in l:\n",
        "  dt[j]=dt[j].astype('|S')\n",
        "\n",
        "for i in l:\n",
        "  dt[i]=le.fit_transform(dt[i])\n",
        "\n",
        "test_data=dt\n",
        "test_data.shape"
      ],
      "execution_count": 50,
      "outputs": [
        {
          "output_type": "execute_result",
          "data": {
            "text/plain": [
              "(77235, 39)"
            ]
          },
          "metadata": {},
          "execution_count": 50
        }
      ]
    },
    {
      "cell_type": "code",
      "metadata": {
        "colab": {
          "base_uri": "https://localhost:8080/"
        },
        "id": "GOl11A_UYJyl",
        "outputId": "05ee362c-f4eb-486d-8fcc-db3c9f04981b"
      },
      "source": [
        "test_data.columns"
      ],
      "execution_count": 51,
      "outputs": [
        {
          "output_type": "execute_result",
          "data": {
            "text/plain": [
              "Index(['Id', 'Local_Case_Number', 'Agency_Name', 'ACRS_Report_Type',\n",
              "       'Route_Type', 'Cross_Street_Type', 'Off_Road_Description',\n",
              "       'Municipality', 'Related_Non_Motorist', 'Collision_Type', 'Weather',\n",
              "       'Surface_Condition', 'Light', 'Traffic_Control',\n",
              "       'Driver_Substance_Abuse', 'Non_Motorist_Substance_Abuse',\n",
              "       'Injury_Severity', 'Circumstance', 'Drivers_License_State',\n",
              "       'Vehicle_Damage_Extent', 'Vehicle_First_Impact_Location',\n",
              "       'Vehicle_Second_Impact_Location', 'Vehicle_Body_Type',\n",
              "       'Vehicle_Movement', 'Vehicle_Continuing_Dir', 'Vehicle_Going_Dir',\n",
              "       'Speed_Limit', 'Parked_Vehicle', 'Vehicle_Year', 'Equipment_Problems',\n",
              "       'Latitude', 'Longitude', 'Location', 'report_id', 'crash_year',\n",
              "       'crash_quarter', 'crash_month', 'crash_day', 'crash_hour'],\n",
              "      dtype='object')"
            ]
          },
          "metadata": {},
          "execution_count": 51
        }
      ]
    },
    {
      "cell_type": "code",
      "metadata": {
        "colab": {
          "base_uri": "https://localhost:8080/",
          "height": 223
        },
        "id": "FXM4yTHvX7LF",
        "outputId": "da8e8601-898b-4da4-8e9d-c07db37b07fe"
      },
      "source": [
        "col=['Local_Case_Number', 'Agency_Name', 'ACRS_Report_Type',\n",
        "       'Route_Type', 'Cross_Street_Type', 'Off_Road_Description',\n",
        "       'Municipality', 'Related_Non_Motorist', 'Collision_Type', 'Weather',\n",
        "       'Surface_Condition', 'Light', 'Traffic_Control',\n",
        "       'Driver_Substance_Abuse', 'Non_Motorist_Substance_Abuse',\n",
        "       'Injury_Severity', 'Circumstance', 'Drivers_License_State',\n",
        "       'Vehicle_Damage_Extent', 'Vehicle_First_Impact_Location',\n",
        "       'Vehicle_Second_Impact_Location', 'Vehicle_Body_Type',\n",
        "       'Vehicle_Movement', 'Vehicle_Continuing_Dir', 'Vehicle_Going_Dir',\n",
        "       'Speed_Limit', 'Parked_Vehicle', 'Vehicle_Year', 'Equipment_Problems',\n",
        "       'Latitude', 'Longitude', 'Location', 'report_id', 'crash_year',\n",
        "       'crash_quarter', 'crash_month', 'crash_day', 'crash_hour']\n",
        "       \n",
        "scaler=StandardScaler().fit(test_data[col])\n",
        "test_scaled_data=scaler.transform(test_data[col])\n",
        "test_data.head()"
      ],
      "execution_count": 52,
      "outputs": [
        {
          "output_type": "execute_result",
          "data": {
            "text/html": [
              "<div>\n",
              "<style scoped>\n",
              "    .dataframe tbody tr th:only-of-type {\n",
              "        vertical-align: middle;\n",
              "    }\n",
              "\n",
              "    .dataframe tbody tr th {\n",
              "        vertical-align: top;\n",
              "    }\n",
              "\n",
              "    .dataframe thead th {\n",
              "        text-align: right;\n",
              "    }\n",
              "</style>\n",
              "<table border=\"1\" class=\"dataframe\">\n",
              "  <thead>\n",
              "    <tr style=\"text-align: right;\">\n",
              "      <th></th>\n",
              "      <th>Id</th>\n",
              "      <th>Local_Case_Number</th>\n",
              "      <th>Agency_Name</th>\n",
              "      <th>ACRS_Report_Type</th>\n",
              "      <th>Route_Type</th>\n",
              "      <th>Cross_Street_Type</th>\n",
              "      <th>Off_Road_Description</th>\n",
              "      <th>Municipality</th>\n",
              "      <th>Related_Non_Motorist</th>\n",
              "      <th>Collision_Type</th>\n",
              "      <th>Weather</th>\n",
              "      <th>Surface_Condition</th>\n",
              "      <th>Light</th>\n",
              "      <th>Traffic_Control</th>\n",
              "      <th>Driver_Substance_Abuse</th>\n",
              "      <th>Non_Motorist_Substance_Abuse</th>\n",
              "      <th>Injury_Severity</th>\n",
              "      <th>Circumstance</th>\n",
              "      <th>Drivers_License_State</th>\n",
              "      <th>Vehicle_Damage_Extent</th>\n",
              "      <th>Vehicle_First_Impact_Location</th>\n",
              "      <th>Vehicle_Second_Impact_Location</th>\n",
              "      <th>Vehicle_Body_Type</th>\n",
              "      <th>Vehicle_Movement</th>\n",
              "      <th>Vehicle_Continuing_Dir</th>\n",
              "      <th>Vehicle_Going_Dir</th>\n",
              "      <th>Speed_Limit</th>\n",
              "      <th>Parked_Vehicle</th>\n",
              "      <th>Vehicle_Year</th>\n",
              "      <th>Equipment_Problems</th>\n",
              "      <th>Latitude</th>\n",
              "      <th>Longitude</th>\n",
              "      <th>Location</th>\n",
              "      <th>report_id</th>\n",
              "      <th>crash_year</th>\n",
              "      <th>crash_quarter</th>\n",
              "      <th>crash_month</th>\n",
              "      <th>crash_day</th>\n",
              "      <th>crash_hour</th>\n",
              "    </tr>\n",
              "  </thead>\n",
              "  <tbody>\n",
              "    <tr>\n",
              "      <th>0</th>\n",
              "      <td>0</td>\n",
              "      <td>2816</td>\n",
              "      <td>3</td>\n",
              "      <td>2</td>\n",
              "      <td>0</td>\n",
              "      <td>3</td>\n",
              "      <td>5661</td>\n",
              "      <td>20</td>\n",
              "      <td>9</td>\n",
              "      <td>7</td>\n",
              "      <td>2</td>\n",
              "      <td>0</td>\n",
              "      <td>1</td>\n",
              "      <td>7</td>\n",
              "      <td>0</td>\n",
              "      <td>12</td>\n",
              "      <td>1</td>\n",
              "      <td>148</td>\n",
              "      <td>26</td>\n",
              "      <td>2</td>\n",
              "      <td>1</td>\n",
              "      <td>1</td>\n",
              "      <td>18</td>\n",
              "      <td>7</td>\n",
              "      <td>1</td>\n",
              "      <td>1</td>\n",
              "      <td>25</td>\n",
              "      <td>0</td>\n",
              "      <td>2004</td>\n",
              "      <td>4</td>\n",
              "      <td>38.988440</td>\n",
              "      <td>-77.127668</td>\n",
              "      <td>42836</td>\n",
              "      <td>4</td>\n",
              "      <td>2015</td>\n",
              "      <td>4</td>\n",
              "      <td>12</td>\n",
              "      <td>16</td>\n",
              "      <td>17</td>\n",
              "    </tr>\n",
              "    <tr>\n",
              "      <th>1</th>\n",
              "      <td>1</td>\n",
              "      <td>2816</td>\n",
              "      <td>5</td>\n",
              "      <td>2</td>\n",
              "      <td>0</td>\n",
              "      <td>4</td>\n",
              "      <td>5661</td>\n",
              "      <td>8</td>\n",
              "      <td>9</td>\n",
              "      <td>9</td>\n",
              "      <td>6</td>\n",
              "      <td>10</td>\n",
              "      <td>4</td>\n",
              "      <td>7</td>\n",
              "      <td>8</td>\n",
              "      <td>12</td>\n",
              "      <td>1</td>\n",
              "      <td>131</td>\n",
              "      <td>26</td>\n",
              "      <td>5</td>\n",
              "      <td>9</td>\n",
              "      <td>9</td>\n",
              "      <td>18</td>\n",
              "      <td>20</td>\n",
              "      <td>2</td>\n",
              "      <td>4</td>\n",
              "      <td>25</td>\n",
              "      <td>0</td>\n",
              "      <td>2001</td>\n",
              "      <td>4</td>\n",
              "      <td>39.094075</td>\n",
              "      <td>-77.205783</td>\n",
              "      <td>46887</td>\n",
              "      <td>4</td>\n",
              "      <td>2016</td>\n",
              "      <td>2</td>\n",
              "      <td>5</td>\n",
              "      <td>1</td>\n",
              "      <td>19</td>\n",
              "    </tr>\n",
              "    <tr>\n",
              "      <th>2</th>\n",
              "      <td>2</td>\n",
              "      <td>277</td>\n",
              "      <td>5</td>\n",
              "      <td>2</td>\n",
              "      <td>3</td>\n",
              "      <td>0</td>\n",
              "      <td>5661</td>\n",
              "      <td>20</td>\n",
              "      <td>9</td>\n",
              "      <td>14</td>\n",
              "      <td>12</td>\n",
              "      <td>0</td>\n",
              "      <td>4</td>\n",
              "      <td>7</td>\n",
              "      <td>8</td>\n",
              "      <td>12</td>\n",
              "      <td>1</td>\n",
              "      <td>148</td>\n",
              "      <td>26</td>\n",
              "      <td>3</td>\n",
              "      <td>13</td>\n",
              "      <td>13</td>\n",
              "      <td>2</td>\n",
              "      <td>9</td>\n",
              "      <td>1</td>\n",
              "      <td>1</td>\n",
              "      <td>35</td>\n",
              "      <td>0</td>\n",
              "      <td>2016</td>\n",
              "      <td>4</td>\n",
              "      <td>39.047180</td>\n",
              "      <td>-77.052688</td>\n",
              "      <td>18958</td>\n",
              "      <td>4</td>\n",
              "      <td>2018</td>\n",
              "      <td>1</td>\n",
              "      <td>3</td>\n",
              "      <td>16</td>\n",
              "      <td>14</td>\n",
              "    </tr>\n",
              "    <tr>\n",
              "      <th>3</th>\n",
              "      <td>3</td>\n",
              "      <td>598</td>\n",
              "      <td>5</td>\n",
              "      <td>2</td>\n",
              "      <td>10</td>\n",
              "      <td>10</td>\n",
              "      <td>457</td>\n",
              "      <td>20</td>\n",
              "      <td>9</td>\n",
              "      <td>14</td>\n",
              "      <td>2</td>\n",
              "      <td>11</td>\n",
              "      <td>4</td>\n",
              "      <td>1</td>\n",
              "      <td>11</td>\n",
              "      <td>12</td>\n",
              "      <td>1</td>\n",
              "      <td>148</td>\n",
              "      <td>26</td>\n",
              "      <td>1</td>\n",
              "      <td>12</td>\n",
              "      <td>12</td>\n",
              "      <td>18</td>\n",
              "      <td>0</td>\n",
              "      <td>4</td>\n",
              "      <td>4</td>\n",
              "      <td>25</td>\n",
              "      <td>0</td>\n",
              "      <td>2004</td>\n",
              "      <td>10</td>\n",
              "      <td>39.178007</td>\n",
              "      <td>-77.238475</td>\n",
              "      <td>35278</td>\n",
              "      <td>4</td>\n",
              "      <td>2018</td>\n",
              "      <td>2</td>\n",
              "      <td>5</td>\n",
              "      <td>25</td>\n",
              "      <td>17</td>\n",
              "    </tr>\n",
              "    <tr>\n",
              "      <th>4</th>\n",
              "      <td>4</td>\n",
              "      <td>826</td>\n",
              "      <td>5</td>\n",
              "      <td>2</td>\n",
              "      <td>2</td>\n",
              "      <td>3</td>\n",
              "      <td>5661</td>\n",
              "      <td>20</td>\n",
              "      <td>9</td>\n",
              "      <td>7</td>\n",
              "      <td>2</td>\n",
              "      <td>0</td>\n",
              "      <td>4</td>\n",
              "      <td>1</td>\n",
              "      <td>10</td>\n",
              "      <td>12</td>\n",
              "      <td>1</td>\n",
              "      <td>148</td>\n",
              "      <td>73</td>\n",
              "      <td>5</td>\n",
              "      <td>4</td>\n",
              "      <td>4</td>\n",
              "      <td>12</td>\n",
              "      <td>2</td>\n",
              "      <td>1</td>\n",
              "      <td>1</td>\n",
              "      <td>55</td>\n",
              "      <td>0</td>\n",
              "      <td>2008</td>\n",
              "      <td>9</td>\n",
              "      <td>39.056134</td>\n",
              "      <td>-77.154043</td>\n",
              "      <td>24965</td>\n",
              "      <td>4</td>\n",
              "      <td>2017</td>\n",
              "      <td>3</td>\n",
              "      <td>9</td>\n",
              "      <td>23</td>\n",
              "      <td>17</td>\n",
              "    </tr>\n",
              "  </tbody>\n",
              "</table>\n",
              "</div>"
            ],
            "text/plain": [
              "   Id  Local_Case_Number  Agency_Name  ...  crash_month  crash_day  crash_hour\n",
              "0   0               2816            3  ...           12         16          17\n",
              "1   1               2816            5  ...            5          1          19\n",
              "2   2                277            5  ...            3         16          14\n",
              "3   3                598            5  ...            5         25          17\n",
              "4   4                826            5  ...            9         23          17\n",
              "\n",
              "[5 rows x 39 columns]"
            ]
          },
          "metadata": {},
          "execution_count": 52
        }
      ]
    },
    {
      "cell_type": "code",
      "metadata": {
        "id": "Vf5-qwWIYiZn"
      },
      "source": [
        "df=pd.DataFrame(test_scaled_data,columns=col)\n",
        "df['Id']=test_data['Id']\n",
        "test_data=df"
      ],
      "execution_count": 53,
      "outputs": []
    },
    {
      "cell_type": "code",
      "metadata": {
        "colab": {
          "base_uri": "https://localhost:8080/"
        },
        "id": "9dzkovvCYxEW",
        "outputId": "e05a222d-7d7e-495f-b2e0-44da6f06caff"
      },
      "source": [
        "test_data.isnull().sum().sum()"
      ],
      "execution_count": 54,
      "outputs": [
        {
          "output_type": "execute_result",
          "data": {
            "text/plain": [
              "0"
            ]
          },
          "metadata": {},
          "execution_count": 54
        }
      ]
    },
    {
      "cell_type": "code",
      "metadata": {
        "colab": {
          "base_uri": "https://localhost:8080/",
          "height": 223
        },
        "id": "LveDiJ7yY0JJ",
        "outputId": "ee042ebe-f65d-459f-a89a-d337e197b5aa"
      },
      "source": [
        "test_data.head(5)"
      ],
      "execution_count": 55,
      "outputs": [
        {
          "output_type": "execute_result",
          "data": {
            "text/html": [
              "<div>\n",
              "<style scoped>\n",
              "    .dataframe tbody tr th:only-of-type {\n",
              "        vertical-align: middle;\n",
              "    }\n",
              "\n",
              "    .dataframe tbody tr th {\n",
              "        vertical-align: top;\n",
              "    }\n",
              "\n",
              "    .dataframe thead th {\n",
              "        text-align: right;\n",
              "    }\n",
              "</style>\n",
              "<table border=\"1\" class=\"dataframe\">\n",
              "  <thead>\n",
              "    <tr style=\"text-align: right;\">\n",
              "      <th></th>\n",
              "      <th>Local_Case_Number</th>\n",
              "      <th>Agency_Name</th>\n",
              "      <th>ACRS_Report_Type</th>\n",
              "      <th>Route_Type</th>\n",
              "      <th>Cross_Street_Type</th>\n",
              "      <th>Off_Road_Description</th>\n",
              "      <th>Municipality</th>\n",
              "      <th>Related_Non_Motorist</th>\n",
              "      <th>Collision_Type</th>\n",
              "      <th>Weather</th>\n",
              "      <th>Surface_Condition</th>\n",
              "      <th>Light</th>\n",
              "      <th>Traffic_Control</th>\n",
              "      <th>Driver_Substance_Abuse</th>\n",
              "      <th>Non_Motorist_Substance_Abuse</th>\n",
              "      <th>Injury_Severity</th>\n",
              "      <th>Circumstance</th>\n",
              "      <th>Drivers_License_State</th>\n",
              "      <th>Vehicle_Damage_Extent</th>\n",
              "      <th>Vehicle_First_Impact_Location</th>\n",
              "      <th>Vehicle_Second_Impact_Location</th>\n",
              "      <th>Vehicle_Body_Type</th>\n",
              "      <th>Vehicle_Movement</th>\n",
              "      <th>Vehicle_Continuing_Dir</th>\n",
              "      <th>Vehicle_Going_Dir</th>\n",
              "      <th>Speed_Limit</th>\n",
              "      <th>Parked_Vehicle</th>\n",
              "      <th>Vehicle_Year</th>\n",
              "      <th>Equipment_Problems</th>\n",
              "      <th>Latitude</th>\n",
              "      <th>Longitude</th>\n",
              "      <th>Location</th>\n",
              "      <th>report_id</th>\n",
              "      <th>crash_year</th>\n",
              "      <th>crash_quarter</th>\n",
              "      <th>crash_month</th>\n",
              "      <th>crash_day</th>\n",
              "      <th>crash_hour</th>\n",
              "      <th>Id</th>\n",
              "    </tr>\n",
              "  </thead>\n",
              "  <tbody>\n",
              "    <tr>\n",
              "      <th>0</th>\n",
              "      <td>1.849806</td>\n",
              "      <td>-1.493458</td>\n",
              "      <td>0.773862</td>\n",
              "      <td>-0.998567</td>\n",
              "      <td>0.024953</td>\n",
              "      <td>0.269280</td>\n",
              "      <td>0.294762</td>\n",
              "      <td>0.115677</td>\n",
              "      <td>-0.829877</td>\n",
              "      <td>-0.519099</td>\n",
              "      <td>-0.651056</td>\n",
              "      <td>-1.636651</td>\n",
              "      <td>0.518325</td>\n",
              "      <td>-4.461830</td>\n",
              "      <td>0.142777</td>\n",
              "      <td>-0.434468</td>\n",
              "      <td>0.365374</td>\n",
              "      <td>-0.285885</td>\n",
              "      <td>-0.286282</td>\n",
              "      <td>-2.047435</td>\n",
              "      <td>-2.053458</td>\n",
              "      <td>0.170493</td>\n",
              "      <td>-0.644738</td>\n",
              "      <td>-0.553385</td>\n",
              "      <td>-0.557945</td>\n",
              "      <td>-0.707207</td>\n",
              "      <td>-0.12568</td>\n",
              "      <td>0.108004</td>\n",
              "      <td>-0.630773</td>\n",
              "      <td>-1.304929</td>\n",
              "      <td>-0.147239</td>\n",
              "      <td>1.054452</td>\n",
              "      <td>0.361506</td>\n",
              "      <td>-1.426205</td>\n",
              "      <td>1.311729</td>\n",
              "      <td>1.569275</td>\n",
              "      <td>0.038047</td>\n",
              "      <td>0.702412</td>\n",
              "      <td>0</td>\n",
              "    </tr>\n",
              "    <tr>\n",
              "      <th>1</th>\n",
              "      <td>1.849806</td>\n",
              "      <td>0.129368</td>\n",
              "      <td>0.773862</td>\n",
              "      <td>-0.998567</td>\n",
              "      <td>0.305158</td>\n",
              "      <td>0.269280</td>\n",
              "      <td>-4.155908</td>\n",
              "      <td>0.115677</td>\n",
              "      <td>-0.350102</td>\n",
              "      <td>0.849214</td>\n",
              "      <td>1.468624</td>\n",
              "      <td>0.506914</td>\n",
              "      <td>0.518325</td>\n",
              "      <td>-0.222257</td>\n",
              "      <td>0.142777</td>\n",
              "      <td>-0.434468</td>\n",
              "      <td>-0.441281</td>\n",
              "      <td>-0.285885</td>\n",
              "      <td>1.384362</td>\n",
              "      <td>0.009183</td>\n",
              "      <td>0.003782</td>\n",
              "      <td>0.170493</td>\n",
              "      <td>1.535068</td>\n",
              "      <td>0.145552</td>\n",
              "      <td>1.546988</td>\n",
              "      <td>-0.707207</td>\n",
              "      <td>-0.12568</td>\n",
              "      <td>0.098890</td>\n",
              "      <td>-0.630773</td>\n",
              "      <td>0.154366</td>\n",
              "      <td>-0.925258</td>\n",
              "      <td>1.316834</td>\n",
              "      <td>0.361506</td>\n",
              "      <td>-0.896126</td>\n",
              "      <td>-0.479966</td>\n",
              "      <td>-0.465712</td>\n",
              "      <td>-1.673889</td>\n",
              "      <td>1.084303</td>\n",
              "      <td>1</td>\n",
              "    </tr>\n",
              "    <tr>\n",
              "      <th>2</th>\n",
              "      <td>-1.083969</td>\n",
              "      <td>0.129368</td>\n",
              "      <td>0.773862</td>\n",
              "      <td>0.009366</td>\n",
              "      <td>-0.815661</td>\n",
              "      <td>0.269280</td>\n",
              "      <td>0.294762</td>\n",
              "      <td>0.115677</td>\n",
              "      <td>0.849336</td>\n",
              "      <td>2.901684</td>\n",
              "      <td>-0.651056</td>\n",
              "      <td>0.506914</td>\n",
              "      <td>0.518325</td>\n",
              "      <td>-0.222257</td>\n",
              "      <td>0.142777</td>\n",
              "      <td>-0.434468</td>\n",
              "      <td>0.365374</td>\n",
              "      <td>-0.285885</td>\n",
              "      <td>0.270599</td>\n",
              "      <td>1.037492</td>\n",
              "      <td>1.032403</td>\n",
              "      <td>-2.327081</td>\n",
              "      <td>-0.309383</td>\n",
              "      <td>-0.553385</td>\n",
              "      <td>-0.557945</td>\n",
              "      <td>0.197738</td>\n",
              "      <td>-0.12568</td>\n",
              "      <td>0.144458</td>\n",
              "      <td>-0.630773</td>\n",
              "      <td>-0.493465</td>\n",
              "      <td>0.599555</td>\n",
              "      <td>-0.492121</td>\n",
              "      <td>0.361506</td>\n",
              "      <td>0.164030</td>\n",
              "      <td>-1.375813</td>\n",
              "      <td>-1.047137</td>\n",
              "      <td>0.038047</td>\n",
              "      <td>0.129576</td>\n",
              "      <td>2</td>\n",
              "    </tr>\n",
              "    <tr>\n",
              "      <th>3</th>\n",
              "      <td>-0.713059</td>\n",
              "      <td>0.129368</td>\n",
              "      <td>0.773862</td>\n",
              "      <td>2.361208</td>\n",
              "      <td>1.986386</td>\n",
              "      <td>-5.264373</td>\n",
              "      <td>0.294762</td>\n",
              "      <td>0.115677</td>\n",
              "      <td>0.849336</td>\n",
              "      <td>-0.519099</td>\n",
              "      <td>1.680592</td>\n",
              "      <td>0.506914</td>\n",
              "      <td>-1.079728</td>\n",
              "      <td>1.367583</td>\n",
              "      <td>0.142777</td>\n",
              "      <td>-0.434468</td>\n",
              "      <td>0.365374</td>\n",
              "      <td>-0.285885</td>\n",
              "      <td>-0.843163</td>\n",
              "      <td>0.780415</td>\n",
              "      <td>0.775248</td>\n",
              "      <td>0.170493</td>\n",
              "      <td>-1.818479</td>\n",
              "      <td>1.543425</td>\n",
              "      <td>1.546988</td>\n",
              "      <td>-0.707207</td>\n",
              "      <td>-0.12568</td>\n",
              "      <td>0.108004</td>\n",
              "      <td>1.661001</td>\n",
              "      <td>1.313841</td>\n",
              "      <td>-1.250864</td>\n",
              "      <td>0.564922</td>\n",
              "      <td>0.361506</td>\n",
              "      <td>0.164030</td>\n",
              "      <td>-0.479966</td>\n",
              "      <td>-0.465712</td>\n",
              "      <td>1.065209</td>\n",
              "      <td>0.702412</td>\n",
              "      <td>3</td>\n",
              "    </tr>\n",
              "    <tr>\n",
              "      <th>4</th>\n",
              "      <td>-0.449608</td>\n",
              "      <td>0.129368</td>\n",
              "      <td>0.773862</td>\n",
              "      <td>-0.326612</td>\n",
              "      <td>0.024953</td>\n",
              "      <td>0.269280</td>\n",
              "      <td>0.294762</td>\n",
              "      <td>0.115677</td>\n",
              "      <td>-0.829877</td>\n",
              "      <td>-0.519099</td>\n",
              "      <td>-0.651056</td>\n",
              "      <td>0.506914</td>\n",
              "      <td>-1.079728</td>\n",
              "      <td>0.837636</td>\n",
              "      <td>0.142777</td>\n",
              "      <td>-0.434468</td>\n",
              "      <td>0.365374</td>\n",
              "      <td>3.123395</td>\n",
              "      <td>1.384362</td>\n",
              "      <td>-1.276203</td>\n",
              "      <td>-1.281993</td>\n",
              "      <td>-0.766098</td>\n",
              "      <td>-1.483125</td>\n",
              "      <td>-0.553385</td>\n",
              "      <td>-0.557945</td>\n",
              "      <td>2.007628</td>\n",
              "      <td>-0.12568</td>\n",
              "      <td>0.120155</td>\n",
              "      <td>1.279039</td>\n",
              "      <td>-0.369768</td>\n",
              "      <td>-0.409926</td>\n",
              "      <td>-0.103049</td>\n",
              "      <td>0.361506</td>\n",
              "      <td>-0.366048</td>\n",
              "      <td>0.415881</td>\n",
              "      <td>0.697138</td>\n",
              "      <td>0.836951</td>\n",
              "      <td>0.702412</td>\n",
              "      <td>4</td>\n",
              "    </tr>\n",
              "  </tbody>\n",
              "</table>\n",
              "</div>"
            ],
            "text/plain": [
              "   Local_Case_Number  Agency_Name  ACRS_Report_Type  ...  crash_day  crash_hour  Id\n",
              "0           1.849806    -1.493458          0.773862  ...   0.038047    0.702412   0\n",
              "1           1.849806     0.129368          0.773862  ...  -1.673889    1.084303   1\n",
              "2          -1.083969     0.129368          0.773862  ...   0.038047    0.129576   2\n",
              "3          -0.713059     0.129368          0.773862  ...   1.065209    0.702412   3\n",
              "4          -0.449608     0.129368          0.773862  ...   0.836951    0.702412   4\n",
              "\n",
              "[5 rows x 39 columns]"
            ]
          },
          "metadata": {},
          "execution_count": 55
        }
      ]
    },
    {
      "cell_type": "markdown",
      "metadata": {
        "id": "abwn0HC_C00D"
      },
      "source": [
        "## **Submission**"
      ]
    },
    {
      "cell_type": "code",
      "metadata": {
        "colab": {
          "base_uri": "https://localhost:8080/",
          "height": 223
        },
        "id": "o3A1GDHUc5op",
        "outputId": "14fb8cf6-dc5e-4b13-cfbc-5bad746e9b60"
      },
      "source": [
        "test=test_data.drop(['Id','report_id', 'Municipality','Local_Case_Number', 'Agency_Name', 'Vehicle_Year'], axis=1)\n",
        "test.head(5)"
      ],
      "execution_count": 56,
      "outputs": [
        {
          "output_type": "execute_result",
          "data": {
            "text/html": [
              "<div>\n",
              "<style scoped>\n",
              "    .dataframe tbody tr th:only-of-type {\n",
              "        vertical-align: middle;\n",
              "    }\n",
              "\n",
              "    .dataframe tbody tr th {\n",
              "        vertical-align: top;\n",
              "    }\n",
              "\n",
              "    .dataframe thead th {\n",
              "        text-align: right;\n",
              "    }\n",
              "</style>\n",
              "<table border=\"1\" class=\"dataframe\">\n",
              "  <thead>\n",
              "    <tr style=\"text-align: right;\">\n",
              "      <th></th>\n",
              "      <th>ACRS_Report_Type</th>\n",
              "      <th>Route_Type</th>\n",
              "      <th>Cross_Street_Type</th>\n",
              "      <th>Off_Road_Description</th>\n",
              "      <th>Related_Non_Motorist</th>\n",
              "      <th>Collision_Type</th>\n",
              "      <th>Weather</th>\n",
              "      <th>Surface_Condition</th>\n",
              "      <th>Light</th>\n",
              "      <th>Traffic_Control</th>\n",
              "      <th>Driver_Substance_Abuse</th>\n",
              "      <th>Non_Motorist_Substance_Abuse</th>\n",
              "      <th>Injury_Severity</th>\n",
              "      <th>Circumstance</th>\n",
              "      <th>Drivers_License_State</th>\n",
              "      <th>Vehicle_Damage_Extent</th>\n",
              "      <th>Vehicle_First_Impact_Location</th>\n",
              "      <th>Vehicle_Second_Impact_Location</th>\n",
              "      <th>Vehicle_Body_Type</th>\n",
              "      <th>Vehicle_Movement</th>\n",
              "      <th>Vehicle_Continuing_Dir</th>\n",
              "      <th>Vehicle_Going_Dir</th>\n",
              "      <th>Speed_Limit</th>\n",
              "      <th>Parked_Vehicle</th>\n",
              "      <th>Equipment_Problems</th>\n",
              "      <th>Latitude</th>\n",
              "      <th>Longitude</th>\n",
              "      <th>Location</th>\n",
              "      <th>crash_year</th>\n",
              "      <th>crash_quarter</th>\n",
              "      <th>crash_month</th>\n",
              "      <th>crash_day</th>\n",
              "      <th>crash_hour</th>\n",
              "    </tr>\n",
              "  </thead>\n",
              "  <tbody>\n",
              "    <tr>\n",
              "      <th>0</th>\n",
              "      <td>0.773862</td>\n",
              "      <td>-0.998567</td>\n",
              "      <td>0.024953</td>\n",
              "      <td>0.269280</td>\n",
              "      <td>0.115677</td>\n",
              "      <td>-0.829877</td>\n",
              "      <td>-0.519099</td>\n",
              "      <td>-0.651056</td>\n",
              "      <td>-1.636651</td>\n",
              "      <td>0.518325</td>\n",
              "      <td>-4.461830</td>\n",
              "      <td>0.142777</td>\n",
              "      <td>-0.434468</td>\n",
              "      <td>0.365374</td>\n",
              "      <td>-0.285885</td>\n",
              "      <td>-0.286282</td>\n",
              "      <td>-2.047435</td>\n",
              "      <td>-2.053458</td>\n",
              "      <td>0.170493</td>\n",
              "      <td>-0.644738</td>\n",
              "      <td>-0.553385</td>\n",
              "      <td>-0.557945</td>\n",
              "      <td>-0.707207</td>\n",
              "      <td>-0.12568</td>\n",
              "      <td>-0.630773</td>\n",
              "      <td>-1.304929</td>\n",
              "      <td>-0.147239</td>\n",
              "      <td>1.054452</td>\n",
              "      <td>-1.426205</td>\n",
              "      <td>1.311729</td>\n",
              "      <td>1.569275</td>\n",
              "      <td>0.038047</td>\n",
              "      <td>0.702412</td>\n",
              "    </tr>\n",
              "    <tr>\n",
              "      <th>1</th>\n",
              "      <td>0.773862</td>\n",
              "      <td>-0.998567</td>\n",
              "      <td>0.305158</td>\n",
              "      <td>0.269280</td>\n",
              "      <td>0.115677</td>\n",
              "      <td>-0.350102</td>\n",
              "      <td>0.849214</td>\n",
              "      <td>1.468624</td>\n",
              "      <td>0.506914</td>\n",
              "      <td>0.518325</td>\n",
              "      <td>-0.222257</td>\n",
              "      <td>0.142777</td>\n",
              "      <td>-0.434468</td>\n",
              "      <td>-0.441281</td>\n",
              "      <td>-0.285885</td>\n",
              "      <td>1.384362</td>\n",
              "      <td>0.009183</td>\n",
              "      <td>0.003782</td>\n",
              "      <td>0.170493</td>\n",
              "      <td>1.535068</td>\n",
              "      <td>0.145552</td>\n",
              "      <td>1.546988</td>\n",
              "      <td>-0.707207</td>\n",
              "      <td>-0.12568</td>\n",
              "      <td>-0.630773</td>\n",
              "      <td>0.154366</td>\n",
              "      <td>-0.925258</td>\n",
              "      <td>1.316834</td>\n",
              "      <td>-0.896126</td>\n",
              "      <td>-0.479966</td>\n",
              "      <td>-0.465712</td>\n",
              "      <td>-1.673889</td>\n",
              "      <td>1.084303</td>\n",
              "    </tr>\n",
              "    <tr>\n",
              "      <th>2</th>\n",
              "      <td>0.773862</td>\n",
              "      <td>0.009366</td>\n",
              "      <td>-0.815661</td>\n",
              "      <td>0.269280</td>\n",
              "      <td>0.115677</td>\n",
              "      <td>0.849336</td>\n",
              "      <td>2.901684</td>\n",
              "      <td>-0.651056</td>\n",
              "      <td>0.506914</td>\n",
              "      <td>0.518325</td>\n",
              "      <td>-0.222257</td>\n",
              "      <td>0.142777</td>\n",
              "      <td>-0.434468</td>\n",
              "      <td>0.365374</td>\n",
              "      <td>-0.285885</td>\n",
              "      <td>0.270599</td>\n",
              "      <td>1.037492</td>\n",
              "      <td>1.032403</td>\n",
              "      <td>-2.327081</td>\n",
              "      <td>-0.309383</td>\n",
              "      <td>-0.553385</td>\n",
              "      <td>-0.557945</td>\n",
              "      <td>0.197738</td>\n",
              "      <td>-0.12568</td>\n",
              "      <td>-0.630773</td>\n",
              "      <td>-0.493465</td>\n",
              "      <td>0.599555</td>\n",
              "      <td>-0.492121</td>\n",
              "      <td>0.164030</td>\n",
              "      <td>-1.375813</td>\n",
              "      <td>-1.047137</td>\n",
              "      <td>0.038047</td>\n",
              "      <td>0.129576</td>\n",
              "    </tr>\n",
              "    <tr>\n",
              "      <th>3</th>\n",
              "      <td>0.773862</td>\n",
              "      <td>2.361208</td>\n",
              "      <td>1.986386</td>\n",
              "      <td>-5.264373</td>\n",
              "      <td>0.115677</td>\n",
              "      <td>0.849336</td>\n",
              "      <td>-0.519099</td>\n",
              "      <td>1.680592</td>\n",
              "      <td>0.506914</td>\n",
              "      <td>-1.079728</td>\n",
              "      <td>1.367583</td>\n",
              "      <td>0.142777</td>\n",
              "      <td>-0.434468</td>\n",
              "      <td>0.365374</td>\n",
              "      <td>-0.285885</td>\n",
              "      <td>-0.843163</td>\n",
              "      <td>0.780415</td>\n",
              "      <td>0.775248</td>\n",
              "      <td>0.170493</td>\n",
              "      <td>-1.818479</td>\n",
              "      <td>1.543425</td>\n",
              "      <td>1.546988</td>\n",
              "      <td>-0.707207</td>\n",
              "      <td>-0.12568</td>\n",
              "      <td>1.661001</td>\n",
              "      <td>1.313841</td>\n",
              "      <td>-1.250864</td>\n",
              "      <td>0.564922</td>\n",
              "      <td>0.164030</td>\n",
              "      <td>-0.479966</td>\n",
              "      <td>-0.465712</td>\n",
              "      <td>1.065209</td>\n",
              "      <td>0.702412</td>\n",
              "    </tr>\n",
              "    <tr>\n",
              "      <th>4</th>\n",
              "      <td>0.773862</td>\n",
              "      <td>-0.326612</td>\n",
              "      <td>0.024953</td>\n",
              "      <td>0.269280</td>\n",
              "      <td>0.115677</td>\n",
              "      <td>-0.829877</td>\n",
              "      <td>-0.519099</td>\n",
              "      <td>-0.651056</td>\n",
              "      <td>0.506914</td>\n",
              "      <td>-1.079728</td>\n",
              "      <td>0.837636</td>\n",
              "      <td>0.142777</td>\n",
              "      <td>-0.434468</td>\n",
              "      <td>0.365374</td>\n",
              "      <td>3.123395</td>\n",
              "      <td>1.384362</td>\n",
              "      <td>-1.276203</td>\n",
              "      <td>-1.281993</td>\n",
              "      <td>-0.766098</td>\n",
              "      <td>-1.483125</td>\n",
              "      <td>-0.553385</td>\n",
              "      <td>-0.557945</td>\n",
              "      <td>2.007628</td>\n",
              "      <td>-0.12568</td>\n",
              "      <td>1.279039</td>\n",
              "      <td>-0.369768</td>\n",
              "      <td>-0.409926</td>\n",
              "      <td>-0.103049</td>\n",
              "      <td>-0.366048</td>\n",
              "      <td>0.415881</td>\n",
              "      <td>0.697138</td>\n",
              "      <td>0.836951</td>\n",
              "      <td>0.702412</td>\n",
              "    </tr>\n",
              "  </tbody>\n",
              "</table>\n",
              "</div>"
            ],
            "text/plain": [
              "   ACRS_Report_Type  Route_Type  ...  crash_day  crash_hour\n",
              "0          0.773862   -0.998567  ...   0.038047    0.702412\n",
              "1          0.773862   -0.998567  ...  -1.673889    1.084303\n",
              "2          0.773862    0.009366  ...   0.038047    0.129576\n",
              "3          0.773862    2.361208  ...   1.065209    0.702412\n",
              "4          0.773862   -0.326612  ...   0.836951    0.702412\n",
              "\n",
              "[5 rows x 33 columns]"
            ]
          },
          "metadata": {},
          "execution_count": 56
        }
      ]
    },
    {
      "cell_type": "code",
      "metadata": {
        "colab": {
          "base_uri": "https://localhost:8080/"
        },
        "id": "nd4LvVJoGG2r",
        "outputId": "92d6af87-b81c-4002-d25e-77a11f3033b4"
      },
      "source": [
        "test.columns"
      ],
      "execution_count": 57,
      "outputs": [
        {
          "output_type": "execute_result",
          "data": {
            "text/plain": [
              "Index(['ACRS_Report_Type', 'Route_Type', 'Cross_Street_Type',\n",
              "       'Off_Road_Description', 'Related_Non_Motorist', 'Collision_Type',\n",
              "       'Weather', 'Surface_Condition', 'Light', 'Traffic_Control',\n",
              "       'Driver_Substance_Abuse', 'Non_Motorist_Substance_Abuse',\n",
              "       'Injury_Severity', 'Circumstance', 'Drivers_License_State',\n",
              "       'Vehicle_Damage_Extent', 'Vehicle_First_Impact_Location',\n",
              "       'Vehicle_Second_Impact_Location', 'Vehicle_Body_Type',\n",
              "       'Vehicle_Movement', 'Vehicle_Continuing_Dir', 'Vehicle_Going_Dir',\n",
              "       'Speed_Limit', 'Parked_Vehicle', 'Equipment_Problems', 'Latitude',\n",
              "       'Longitude', 'Location', 'crash_year', 'crash_quarter', 'crash_month',\n",
              "       'crash_day', 'crash_hour'],\n",
              "      dtype='object')"
            ]
          },
          "metadata": {},
          "execution_count": 57
        }
      ]
    },
    {
      "cell_type": "code",
      "metadata": {
        "id": "Zv63VHE6aZxc"
      },
      "source": [
        "# model- gradient boosting classifier\n",
        "# xg- xgboost\n",
        "pred=model.predict(test)"
      ],
      "execution_count": 58,
      "outputs": []
    },
    {
      "cell_type": "code",
      "metadata": {
        "colab": {
          "base_uri": "https://localhost:8080/"
        },
        "id": "vGGGFGnka6wD",
        "outputId": "e567b862-eaf2-4697-aee8-9aba2d9cd81a"
      },
      "source": [
        "print(pred[:10])"
      ],
      "execution_count": 59,
      "outputs": [
        {
          "output_type": "stream",
          "name": "stdout",
          "text": [
            "[1 0 0 1 1 1 1 0 0 1]\n"
          ]
        }
      ]
    },
    {
      "cell_type": "code",
      "metadata": {
        "colab": {
          "base_uri": "https://localhost:8080/",
          "height": 223
        },
        "id": "lXofzK-phX3i",
        "outputId": "5a663622-ca28-42ce-a416-e4d10689a8eb"
      },
      "source": [
        "test_data['Fault']=pred\n",
        "test_data.head(5)"
      ],
      "execution_count": 60,
      "outputs": [
        {
          "output_type": "execute_result",
          "data": {
            "text/html": [
              "<div>\n",
              "<style scoped>\n",
              "    .dataframe tbody tr th:only-of-type {\n",
              "        vertical-align: middle;\n",
              "    }\n",
              "\n",
              "    .dataframe tbody tr th {\n",
              "        vertical-align: top;\n",
              "    }\n",
              "\n",
              "    .dataframe thead th {\n",
              "        text-align: right;\n",
              "    }\n",
              "</style>\n",
              "<table border=\"1\" class=\"dataframe\">\n",
              "  <thead>\n",
              "    <tr style=\"text-align: right;\">\n",
              "      <th></th>\n",
              "      <th>Local_Case_Number</th>\n",
              "      <th>Agency_Name</th>\n",
              "      <th>ACRS_Report_Type</th>\n",
              "      <th>Route_Type</th>\n",
              "      <th>Cross_Street_Type</th>\n",
              "      <th>Off_Road_Description</th>\n",
              "      <th>Municipality</th>\n",
              "      <th>Related_Non_Motorist</th>\n",
              "      <th>Collision_Type</th>\n",
              "      <th>Weather</th>\n",
              "      <th>Surface_Condition</th>\n",
              "      <th>Light</th>\n",
              "      <th>Traffic_Control</th>\n",
              "      <th>Driver_Substance_Abuse</th>\n",
              "      <th>Non_Motorist_Substance_Abuse</th>\n",
              "      <th>Injury_Severity</th>\n",
              "      <th>Circumstance</th>\n",
              "      <th>Drivers_License_State</th>\n",
              "      <th>Vehicle_Damage_Extent</th>\n",
              "      <th>Vehicle_First_Impact_Location</th>\n",
              "      <th>Vehicle_Second_Impact_Location</th>\n",
              "      <th>Vehicle_Body_Type</th>\n",
              "      <th>Vehicle_Movement</th>\n",
              "      <th>Vehicle_Continuing_Dir</th>\n",
              "      <th>Vehicle_Going_Dir</th>\n",
              "      <th>Speed_Limit</th>\n",
              "      <th>Parked_Vehicle</th>\n",
              "      <th>Vehicle_Year</th>\n",
              "      <th>Equipment_Problems</th>\n",
              "      <th>Latitude</th>\n",
              "      <th>Longitude</th>\n",
              "      <th>Location</th>\n",
              "      <th>report_id</th>\n",
              "      <th>crash_year</th>\n",
              "      <th>crash_quarter</th>\n",
              "      <th>crash_month</th>\n",
              "      <th>crash_day</th>\n",
              "      <th>crash_hour</th>\n",
              "      <th>Id</th>\n",
              "      <th>Fault</th>\n",
              "    </tr>\n",
              "  </thead>\n",
              "  <tbody>\n",
              "    <tr>\n",
              "      <th>0</th>\n",
              "      <td>1.849806</td>\n",
              "      <td>-1.493458</td>\n",
              "      <td>0.773862</td>\n",
              "      <td>-0.998567</td>\n",
              "      <td>0.024953</td>\n",
              "      <td>0.269280</td>\n",
              "      <td>0.294762</td>\n",
              "      <td>0.115677</td>\n",
              "      <td>-0.829877</td>\n",
              "      <td>-0.519099</td>\n",
              "      <td>-0.651056</td>\n",
              "      <td>-1.636651</td>\n",
              "      <td>0.518325</td>\n",
              "      <td>-4.461830</td>\n",
              "      <td>0.142777</td>\n",
              "      <td>-0.434468</td>\n",
              "      <td>0.365374</td>\n",
              "      <td>-0.285885</td>\n",
              "      <td>-0.286282</td>\n",
              "      <td>-2.047435</td>\n",
              "      <td>-2.053458</td>\n",
              "      <td>0.170493</td>\n",
              "      <td>-0.644738</td>\n",
              "      <td>-0.553385</td>\n",
              "      <td>-0.557945</td>\n",
              "      <td>-0.707207</td>\n",
              "      <td>-0.12568</td>\n",
              "      <td>0.108004</td>\n",
              "      <td>-0.630773</td>\n",
              "      <td>-1.304929</td>\n",
              "      <td>-0.147239</td>\n",
              "      <td>1.054452</td>\n",
              "      <td>0.361506</td>\n",
              "      <td>-1.426205</td>\n",
              "      <td>1.311729</td>\n",
              "      <td>1.569275</td>\n",
              "      <td>0.038047</td>\n",
              "      <td>0.702412</td>\n",
              "      <td>0</td>\n",
              "      <td>1</td>\n",
              "    </tr>\n",
              "    <tr>\n",
              "      <th>1</th>\n",
              "      <td>1.849806</td>\n",
              "      <td>0.129368</td>\n",
              "      <td>0.773862</td>\n",
              "      <td>-0.998567</td>\n",
              "      <td>0.305158</td>\n",
              "      <td>0.269280</td>\n",
              "      <td>-4.155908</td>\n",
              "      <td>0.115677</td>\n",
              "      <td>-0.350102</td>\n",
              "      <td>0.849214</td>\n",
              "      <td>1.468624</td>\n",
              "      <td>0.506914</td>\n",
              "      <td>0.518325</td>\n",
              "      <td>-0.222257</td>\n",
              "      <td>0.142777</td>\n",
              "      <td>-0.434468</td>\n",
              "      <td>-0.441281</td>\n",
              "      <td>-0.285885</td>\n",
              "      <td>1.384362</td>\n",
              "      <td>0.009183</td>\n",
              "      <td>0.003782</td>\n",
              "      <td>0.170493</td>\n",
              "      <td>1.535068</td>\n",
              "      <td>0.145552</td>\n",
              "      <td>1.546988</td>\n",
              "      <td>-0.707207</td>\n",
              "      <td>-0.12568</td>\n",
              "      <td>0.098890</td>\n",
              "      <td>-0.630773</td>\n",
              "      <td>0.154366</td>\n",
              "      <td>-0.925258</td>\n",
              "      <td>1.316834</td>\n",
              "      <td>0.361506</td>\n",
              "      <td>-0.896126</td>\n",
              "      <td>-0.479966</td>\n",
              "      <td>-0.465712</td>\n",
              "      <td>-1.673889</td>\n",
              "      <td>1.084303</td>\n",
              "      <td>1</td>\n",
              "      <td>0</td>\n",
              "    </tr>\n",
              "    <tr>\n",
              "      <th>2</th>\n",
              "      <td>-1.083969</td>\n",
              "      <td>0.129368</td>\n",
              "      <td>0.773862</td>\n",
              "      <td>0.009366</td>\n",
              "      <td>-0.815661</td>\n",
              "      <td>0.269280</td>\n",
              "      <td>0.294762</td>\n",
              "      <td>0.115677</td>\n",
              "      <td>0.849336</td>\n",
              "      <td>2.901684</td>\n",
              "      <td>-0.651056</td>\n",
              "      <td>0.506914</td>\n",
              "      <td>0.518325</td>\n",
              "      <td>-0.222257</td>\n",
              "      <td>0.142777</td>\n",
              "      <td>-0.434468</td>\n",
              "      <td>0.365374</td>\n",
              "      <td>-0.285885</td>\n",
              "      <td>0.270599</td>\n",
              "      <td>1.037492</td>\n",
              "      <td>1.032403</td>\n",
              "      <td>-2.327081</td>\n",
              "      <td>-0.309383</td>\n",
              "      <td>-0.553385</td>\n",
              "      <td>-0.557945</td>\n",
              "      <td>0.197738</td>\n",
              "      <td>-0.12568</td>\n",
              "      <td>0.144458</td>\n",
              "      <td>-0.630773</td>\n",
              "      <td>-0.493465</td>\n",
              "      <td>0.599555</td>\n",
              "      <td>-0.492121</td>\n",
              "      <td>0.361506</td>\n",
              "      <td>0.164030</td>\n",
              "      <td>-1.375813</td>\n",
              "      <td>-1.047137</td>\n",
              "      <td>0.038047</td>\n",
              "      <td>0.129576</td>\n",
              "      <td>2</td>\n",
              "      <td>0</td>\n",
              "    </tr>\n",
              "    <tr>\n",
              "      <th>3</th>\n",
              "      <td>-0.713059</td>\n",
              "      <td>0.129368</td>\n",
              "      <td>0.773862</td>\n",
              "      <td>2.361208</td>\n",
              "      <td>1.986386</td>\n",
              "      <td>-5.264373</td>\n",
              "      <td>0.294762</td>\n",
              "      <td>0.115677</td>\n",
              "      <td>0.849336</td>\n",
              "      <td>-0.519099</td>\n",
              "      <td>1.680592</td>\n",
              "      <td>0.506914</td>\n",
              "      <td>-1.079728</td>\n",
              "      <td>1.367583</td>\n",
              "      <td>0.142777</td>\n",
              "      <td>-0.434468</td>\n",
              "      <td>0.365374</td>\n",
              "      <td>-0.285885</td>\n",
              "      <td>-0.843163</td>\n",
              "      <td>0.780415</td>\n",
              "      <td>0.775248</td>\n",
              "      <td>0.170493</td>\n",
              "      <td>-1.818479</td>\n",
              "      <td>1.543425</td>\n",
              "      <td>1.546988</td>\n",
              "      <td>-0.707207</td>\n",
              "      <td>-0.12568</td>\n",
              "      <td>0.108004</td>\n",
              "      <td>1.661001</td>\n",
              "      <td>1.313841</td>\n",
              "      <td>-1.250864</td>\n",
              "      <td>0.564922</td>\n",
              "      <td>0.361506</td>\n",
              "      <td>0.164030</td>\n",
              "      <td>-0.479966</td>\n",
              "      <td>-0.465712</td>\n",
              "      <td>1.065209</td>\n",
              "      <td>0.702412</td>\n",
              "      <td>3</td>\n",
              "      <td>1</td>\n",
              "    </tr>\n",
              "    <tr>\n",
              "      <th>4</th>\n",
              "      <td>-0.449608</td>\n",
              "      <td>0.129368</td>\n",
              "      <td>0.773862</td>\n",
              "      <td>-0.326612</td>\n",
              "      <td>0.024953</td>\n",
              "      <td>0.269280</td>\n",
              "      <td>0.294762</td>\n",
              "      <td>0.115677</td>\n",
              "      <td>-0.829877</td>\n",
              "      <td>-0.519099</td>\n",
              "      <td>-0.651056</td>\n",
              "      <td>0.506914</td>\n",
              "      <td>-1.079728</td>\n",
              "      <td>0.837636</td>\n",
              "      <td>0.142777</td>\n",
              "      <td>-0.434468</td>\n",
              "      <td>0.365374</td>\n",
              "      <td>3.123395</td>\n",
              "      <td>1.384362</td>\n",
              "      <td>-1.276203</td>\n",
              "      <td>-1.281993</td>\n",
              "      <td>-0.766098</td>\n",
              "      <td>-1.483125</td>\n",
              "      <td>-0.553385</td>\n",
              "      <td>-0.557945</td>\n",
              "      <td>2.007628</td>\n",
              "      <td>-0.12568</td>\n",
              "      <td>0.120155</td>\n",
              "      <td>1.279039</td>\n",
              "      <td>-0.369768</td>\n",
              "      <td>-0.409926</td>\n",
              "      <td>-0.103049</td>\n",
              "      <td>0.361506</td>\n",
              "      <td>-0.366048</td>\n",
              "      <td>0.415881</td>\n",
              "      <td>0.697138</td>\n",
              "      <td>0.836951</td>\n",
              "      <td>0.702412</td>\n",
              "      <td>4</td>\n",
              "      <td>1</td>\n",
              "    </tr>\n",
              "  </tbody>\n",
              "</table>\n",
              "</div>"
            ],
            "text/plain": [
              "   Local_Case_Number  Agency_Name  ACRS_Report_Type  ...  crash_hour  Id  Fault\n",
              "0           1.849806    -1.493458          0.773862  ...    0.702412   0      1\n",
              "1           1.849806     0.129368          0.773862  ...    1.084303   1      0\n",
              "2          -1.083969     0.129368          0.773862  ...    0.129576   2      0\n",
              "3          -0.713059     0.129368          0.773862  ...    0.702412   3      1\n",
              "4          -0.449608     0.129368          0.773862  ...    0.702412   4      1\n",
              "\n",
              "[5 rows x 40 columns]"
            ]
          },
          "metadata": {},
          "execution_count": 60
        }
      ]
    },
    {
      "cell_type": "code",
      "metadata": {
        "id": "npaCwt5yhQlK"
      },
      "source": [
        "result=test_data[['Id','Fault']]\n",
        "result.to_csv(\"submission\", index=False)"
      ],
      "execution_count": 61,
      "outputs": []
    }
  ]
}
